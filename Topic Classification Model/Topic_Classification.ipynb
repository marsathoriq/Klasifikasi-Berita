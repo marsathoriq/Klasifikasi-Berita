{
  "nbformat": 4,
  "nbformat_minor": 0,
  "metadata": {
    "colab": {
      "name": "Topic Classification.ipynb",
      "provenance": [],
      "collapsed_sections": [],
      "toc_visible": true
    },
    "kernelspec": {
      "display_name": "Python 3",
      "name": "python3"
    },
    "widgets": {
      "application/vnd.jupyter.widget-state+json": {
        "10184cf8c14b43279b9a1ee06379f9b7": {
          "model_module": "@jupyter-widgets/controls",
          "model_name": "HBoxModel",
          "state": {
            "_view_name": "HBoxView",
            "_dom_classes": [],
            "_model_name": "HBoxModel",
            "_view_module": "@jupyter-widgets/controls",
            "_model_module_version": "1.5.0",
            "_view_count": null,
            "_view_module_version": "1.5.0",
            "box_style": "",
            "layout": "IPY_MODEL_12f0d5e0972a4a88bbe501339dbfac40",
            "_model_module": "@jupyter-widgets/controls",
            "children": [
              "IPY_MODEL_63044decf93144979b0004beb28a3c84",
              "IPY_MODEL_e75c8277812840e9b32d70bdbecca257"
            ]
          }
        },
        "12f0d5e0972a4a88bbe501339dbfac40": {
          "model_module": "@jupyter-widgets/base",
          "model_name": "LayoutModel",
          "state": {
            "_view_name": "LayoutView",
            "grid_template_rows": null,
            "right": null,
            "justify_content": null,
            "_view_module": "@jupyter-widgets/base",
            "overflow": null,
            "_model_module_version": "1.2.0",
            "_view_count": null,
            "flex_flow": null,
            "width": null,
            "min_width": null,
            "border": null,
            "align_items": null,
            "bottom": null,
            "_model_module": "@jupyter-widgets/base",
            "top": null,
            "grid_column": null,
            "overflow_y": null,
            "overflow_x": null,
            "grid_auto_flow": null,
            "grid_area": null,
            "grid_template_columns": null,
            "flex": null,
            "_model_name": "LayoutModel",
            "justify_items": null,
            "grid_row": null,
            "max_height": null,
            "align_content": null,
            "visibility": null,
            "align_self": null,
            "height": null,
            "min_height": null,
            "padding": null,
            "grid_auto_rows": null,
            "grid_gap": null,
            "max_width": null,
            "order": null,
            "_view_module_version": "1.2.0",
            "grid_template_areas": null,
            "object_position": null,
            "object_fit": null,
            "grid_auto_columns": null,
            "margin": null,
            "display": null,
            "left": null
          }
        },
        "63044decf93144979b0004beb28a3c84": {
          "model_module": "@jupyter-widgets/controls",
          "model_name": "FloatProgressModel",
          "state": {
            "_view_name": "ProgressView",
            "style": "IPY_MODEL_4a8a39b7c1c0458e99df67279f912338",
            "_dom_classes": [],
            "description": "",
            "_model_name": "FloatProgressModel",
            "bar_style": "success",
            "max": 1,
            "_view_module": "@jupyter-widgets/controls",
            "_model_module_version": "1.5.0",
            "value": 0,
            "_view_count": null,
            "_view_module_version": "1.5.0",
            "orientation": "horizontal",
            "min": 0,
            "description_tooltip": null,
            "_model_module": "@jupyter-widgets/controls",
            "layout": "IPY_MODEL_15f65d20d4274ff0a6706a869f12e01a"
          }
        },
        "e75c8277812840e9b32d70bdbecca257": {
          "model_module": "@jupyter-widgets/controls",
          "model_name": "HTMLModel",
          "state": {
            "_view_name": "HTMLView",
            "style": "IPY_MODEL_e18b1a08744e45838b796556196cf4fa",
            "_dom_classes": [],
            "description": "",
            "_model_name": "HTMLModel",
            "placeholder": "​",
            "_view_module": "@jupyter-widgets/controls",
            "_model_module_version": "1.5.0",
            "value": " 0/? [00:00&lt;?, ?it/s]",
            "_view_count": null,
            "_view_module_version": "1.5.0",
            "description_tooltip": null,
            "_model_module": "@jupyter-widgets/controls",
            "layout": "IPY_MODEL_58f99db42540474eb2a668978bf3b15d"
          }
        },
        "4a8a39b7c1c0458e99df67279f912338": {
          "model_module": "@jupyter-widgets/controls",
          "model_name": "ProgressStyleModel",
          "state": {
            "_view_name": "StyleView",
            "_model_name": "ProgressStyleModel",
            "description_width": "initial",
            "_view_module": "@jupyter-widgets/base",
            "_model_module_version": "1.5.0",
            "_view_count": null,
            "_view_module_version": "1.2.0",
            "bar_color": null,
            "_model_module": "@jupyter-widgets/controls"
          }
        },
        "15f65d20d4274ff0a6706a869f12e01a": {
          "model_module": "@jupyter-widgets/base",
          "model_name": "LayoutModel",
          "state": {
            "_view_name": "LayoutView",
            "grid_template_rows": null,
            "right": null,
            "justify_content": null,
            "_view_module": "@jupyter-widgets/base",
            "overflow": null,
            "_model_module_version": "1.2.0",
            "_view_count": null,
            "flex_flow": null,
            "width": null,
            "min_width": null,
            "border": null,
            "align_items": null,
            "bottom": null,
            "_model_module": "@jupyter-widgets/base",
            "top": null,
            "grid_column": null,
            "overflow_y": null,
            "overflow_x": null,
            "grid_auto_flow": null,
            "grid_area": null,
            "grid_template_columns": null,
            "flex": null,
            "_model_name": "LayoutModel",
            "justify_items": null,
            "grid_row": null,
            "max_height": null,
            "align_content": null,
            "visibility": null,
            "align_self": null,
            "height": null,
            "min_height": null,
            "padding": null,
            "grid_auto_rows": null,
            "grid_gap": null,
            "max_width": null,
            "order": null,
            "_view_module_version": "1.2.0",
            "grid_template_areas": null,
            "object_position": null,
            "object_fit": null,
            "grid_auto_columns": null,
            "margin": null,
            "display": null,
            "left": null
          }
        },
        "e18b1a08744e45838b796556196cf4fa": {
          "model_module": "@jupyter-widgets/controls",
          "model_name": "DescriptionStyleModel",
          "state": {
            "_view_name": "StyleView",
            "_model_name": "DescriptionStyleModel",
            "description_width": "",
            "_view_module": "@jupyter-widgets/base",
            "_model_module_version": "1.5.0",
            "_view_count": null,
            "_view_module_version": "1.2.0",
            "_model_module": "@jupyter-widgets/controls"
          }
        },
        "58f99db42540474eb2a668978bf3b15d": {
          "model_module": "@jupyter-widgets/base",
          "model_name": "LayoutModel",
          "state": {
            "_view_name": "LayoutView",
            "grid_template_rows": null,
            "right": null,
            "justify_content": null,
            "_view_module": "@jupyter-widgets/base",
            "overflow": null,
            "_model_module_version": "1.2.0",
            "_view_count": null,
            "flex_flow": null,
            "width": null,
            "min_width": null,
            "border": null,
            "align_items": null,
            "bottom": null,
            "_model_module": "@jupyter-widgets/base",
            "top": null,
            "grid_column": null,
            "overflow_y": null,
            "overflow_x": null,
            "grid_auto_flow": null,
            "grid_area": null,
            "grid_template_columns": null,
            "flex": null,
            "_model_name": "LayoutModel",
            "justify_items": null,
            "grid_row": null,
            "max_height": null,
            "align_content": null,
            "visibility": null,
            "align_self": null,
            "height": null,
            "min_height": null,
            "padding": null,
            "grid_auto_rows": null,
            "grid_gap": null,
            "max_width": null,
            "order": null,
            "_view_module_version": "1.2.0",
            "grid_template_areas": null,
            "object_position": null,
            "object_fit": null,
            "grid_auto_columns": null,
            "margin": null,
            "display": null,
            "left": null
          }
        }
      }
    }
  },
  "cells": [
    {
      "cell_type": "markdown",
      "metadata": {
        "id": "2k5UN1UekGNQ"
      },
      "source": [
        "## Import library"
      ]
    },
    {
      "cell_type": "code",
      "metadata": {
        "id": "ZNgXaI95FIN2",
        "colab": {
          "base_uri": "https://localhost:8080/",
          "height": 150,
          "referenced_widgets": [
            "10184cf8c14b43279b9a1ee06379f9b7",
            "12f0d5e0972a4a88bbe501339dbfac40",
            "63044decf93144979b0004beb28a3c84",
            "e75c8277812840e9b32d70bdbecca257",
            "4a8a39b7c1c0458e99df67279f912338",
            "15f65d20d4274ff0a6706a869f12e01a",
            "e18b1a08744e45838b796556196cf4fa",
            "58f99db42540474eb2a668978bf3b15d"
          ]
        },
        "outputId": "17118550-771f-400f-e7da-0ced7af30260"
      },
      "source": [
        "import joblib\n",
        "import re\n",
        "!pip install sklearn\n",
        "from sklearn.model_selection import StratifiedKFold\n",
        "\n",
        "from sklearn.feature_extraction.text import TfidfVectorizer,CountVectorizer\n",
        "import scipy.sparse\n",
        "\n",
        "import bs4 as bs  \n",
        "import re  \n",
        "from sklearn.metrics import classification_report, make_scorer\n",
        "\n",
        "from sklearn.metrics import f1_score,balanced_accuracy_score,accuracy_score\n",
        "\n",
        "import warnings\n",
        "warnings.filterwarnings(\"ignore\")\n",
        "\n",
        "import itertools\n",
        "from tqdm import tqdm, tqdm_notebook\n",
        "tqdm_notebook().pandas()\n",
        "from sklearn.base import clone\n",
        "import time"
      ],
      "execution_count": null,
      "outputs": [
        {
          "output_type": "stream",
          "text": [
            "Requirement already satisfied: sklearn in /usr/local/lib/python3.7/dist-packages (0.0)\n",
            "Requirement already satisfied: scikit-learn in /usr/local/lib/python3.7/dist-packages (from sklearn) (0.22.2.post1)\n",
            "Requirement already satisfied: joblib>=0.11 in /usr/local/lib/python3.7/dist-packages (from scikit-learn->sklearn) (1.0.1)\n",
            "Requirement already satisfied: numpy>=1.11.0 in /usr/local/lib/python3.7/dist-packages (from scikit-learn->sklearn) (1.19.5)\n",
            "Requirement already satisfied: scipy>=0.17.0 in /usr/local/lib/python3.7/dist-packages (from scikit-learn->sklearn) (1.4.1)\n"
          ],
          "name": "stdout"
        },
        {
          "output_type": "display_data",
          "data": {
            "application/vnd.jupyter.widget-view+json": {
              "model_id": "10184cf8c14b43279b9a1ee06379f9b7",
              "version_minor": 0,
              "version_major": 2
            },
            "text/plain": [
              "HBox(children=(FloatProgress(value=1.0, bar_style='info', max=1.0), HTML(value='')))"
            ]
          },
          "metadata": {
            "tags": []
          }
        },
        {
          "output_type": "stream",
          "text": [
            "\n"
          ],
          "name": "stdout"
        }
      ]
    },
    {
      "cell_type": "code",
      "metadata": {
        "id": "k9WwtxQg_jiU"
      },
      "source": [
        "import pandas as pd\n",
        "import numpy as np  \n",
        "import random  \n",
        "import string\n",
        "import unicodedata\n",
        "import matplotlib.pyplot as plt"
      ],
      "execution_count": null,
      "outputs": []
    },
    {
      "cell_type": "code",
      "metadata": {
        "id": "O6WZ-0EqTKBH"
      },
      "source": [
        "dc = {\n",
        "  \"listedAt\": \"2020-07-11T01:08:58+07:00\",\n",
        "  \"lastCheckedAt\": \"2021-04-13T14:48:37.967756+07:00\",\n",
        "  \"scrapBuildingType\": \"house\",\n",
        "  \"latitude\": -7.893,\n",
        "  \"longitude\": 110.14299999999999,\n",
        "  \"url\": \"https://www.olx.co.id/item/jual-pendopo-joglo-kayu-jati-ukir,-rumah-joglo-gebyok,-rumah-limasan-iid-790272511\",\n",
        "  \"price\": 151000000,\n",
        "  \"scrapSource\": \"olx\",\n",
        "  \"description\": \"Produksi Pendopo dan Rumah joglo gebyok ukir Bahan Kayu jati Luas joglo pendopo 10X 8 M luas luar lunas 10X12 Meter Soko guru 20x20x380 Bentangan 225x380cm Blandar pracik 12x10cm Soko pracik12x12x300cm Usuk 4x10cm Tumpang dalam 7 Tumpang luar 3 Plafon triplek Genteng mantili Lisplang keliling Umpak Batu candi Tidak termasuk Tanah pondasi dan lantai Harga Pendopo tanpa dinding 150 jt Sudah sampai pemasangan Barang ready Rumah Joglo dengan ukuran 8mx10m luas dalam dg teras depan 2 meter 10x10 meter luas dalam 12x12 luas luar Dengan gebyok depan ukir 10 meter dan dinding papan kanan kiri dan belakang plus sekat papan panel 2 kamar Harga 260 Juta Limasan soko guru 20x20x400cm 8btng midangan 14x20cm sunduk 17x17cm soko pracik 12x12x300cm usuk 4x10cm plafol triplek 6mm Luas 9x12 meter 145jt Tidak termasuk dinding dan lantai Showroom Galeri Omah Joglo Jalan Raya Ngabul km 9 Tahunan Jepara\",\n",
        "  \"externalPropertyID\": \"790272511\",\n",
        "  \"scrapStatus\": \"active\",\n",
        "  \"delistedAt\": 'null',\n",
        "  \"scrapMarketType\": \"second\",\n",
        "  \"scrapAssignedCity\": \"Kulon Progo\",\n",
        "  \"propertyAttr\": {\n",
        "    \"surfaceArea\": 80,\n",
        "    \"buildingArea\": 120,\n",
        "    \"electricalCapacity\": 'null',\n",
        "    \"totalFloors\": 0,\n",
        "    \"parkingCapacity\": 0,\n",
        "    \"bedroom\": 1,\n",
        "    \"bathroom\": 1,\n",
        "    \"facilities\": [\"garden\"],\n",
        "    \"agentID\": \"89457251\",\n",
        "    \"agentName\": \"Saeful\"\n",
        "  }\n",
        "}"
      ],
      "execution_count": null,
      "outputs": []
    },
    {
      "cell_type": "code",
      "metadata": {
        "colab": {
          "base_uri": "https://localhost:8080/"
        },
        "id": "DqOrF32TTebH",
        "outputId": "ed75a8ad-877c-4697-87f2-a5161ce5137f"
      },
      "source": [
        "dc.get('propertyAttr').get('totalFloors')"
      ],
      "execution_count": null,
      "outputs": [
        {
          "output_type": "execute_result",
          "data": {
            "text/plain": [
              "0"
            ]
          },
          "metadata": {
            "tags": []
          },
          "execution_count": 6
        }
      ]
    },
    {
      "cell_type": "code",
      "metadata": {
        "colab": {
          "base_uri": "https://localhost:8080/"
        },
        "id": "YRKyNeBmTrfw",
        "outputId": "52f947d4-0a12-498f-cdd8-d19d79060112"
      },
      "source": [
        "print ('True' if dc['propertyAttr']['totalFloors'] else 'False')"
      ],
      "execution_count": null,
      "outputs": [
        {
          "output_type": "stream",
          "text": [
            "False\n"
          ],
          "name": "stdout"
        }
      ]
    },
    {
      "cell_type": "code",
      "metadata": {
        "id": "V9Y1c2EqDt09"
      },
      "source": [
        "import tensorflow as tf\n",
        "from keras.layers import Input, Dense, Embedding, Conv2D, MaxPooling2D, Dropout,LSTM, Activation,Bidirectional, GlobalMaxPool1D\n",
        "from keras.layers.core import Reshape, Flatten\n",
        "from keras.models import Model"
      ],
      "execution_count": null,
      "outputs": []
    },
    {
      "cell_type": "markdown",
      "metadata": {
        "id": "iO3JfZGpqcdE"
      },
      "source": [
        "# Sentiment"
      ]
    },
    {
      "cell_type": "markdown",
      "metadata": {
        "id": "NNZ-J19Ms0l0"
      },
      "source": [
        "## Cleaning"
      ]
    },
    {
      "cell_type": "code",
      "metadata": {
        "id": "_0DEpEA_WUY3"
      },
      "source": [
        "data = pd.read_excel('/content/data_topic.xlsx')\n",
        "stop_words = open(\"/content/stopword.txt\", \"r\").read().split()\n",
        "dic = pd.read_csv('/content/normalize_word.csv')"
      ],
      "execution_count": null,
      "outputs": []
    },
    {
      "cell_type": "code",
      "metadata": {
        "id": "ByMHIot1GOsN"
      },
      "source": [
        "data.loc[data[data['Label Topic Classification'] == 7].index,'Label Topic Classification']=12\n",
        "data.loc[data[data['Label Topic Classification'] == 8].index,'Label Topic Classification']=4\n",
        "data.loc[data[data['Label Topic Classification'] == 5].index,'Label Topic Classification']=10"
      ],
      "execution_count": null,
      "outputs": []
    },
    {
      "cell_type": "code",
      "metadata": {
        "id": "CXFxVNcYo8zE"
      },
      "source": [
        "def normalize(text):\n",
        "    text = text.split()\n",
        "    for val in dic.itertuples(index=False):\n",
        "        text = [w.replace(val.slang, val.formal) if w == val.slang else w for w in text]\n",
        "    return \" \".join(text)"
      ],
      "execution_count": null,
      "outputs": []
    },
    {
      "cell_type": "code",
      "metadata": {
        "id": "2EvC0GR3aIjJ"
      },
      "source": [
        "# bersihkan teks\n",
        "def clean_text(text,stopwords):\n",
        "    '''Make text lowercase, remove text in square brackets, remove punctuation and remove words containing numbers.'''\n",
        "    text = str(text)\n",
        "    text = text.lower()\n",
        "    text = re.sub('\\[.*?\\]', '', text)\n",
        "    text = re.sub('[%s]' % re.escape(string.punctuation), '', text)\n",
        "    text = re.sub('\\w*\\d\\w*', '', text)\n",
        "    text = re.sub('[‘’“”…]', '', text)\n",
        "    text = re.sub('\\n', ' ', text)\n",
        "    text = re.sub('\\r', ' ', text)\n",
        "    text = ' '.join([word for word in text.split() if word.lower() not in stopwords])\n",
        "    return text\n",
        "data['content'] = data['content'].apply(clean_text,stopwords=stop_words)"
      ],
      "execution_count": null,
      "outputs": []
    },
    {
      "cell_type": "code",
      "metadata": {
        "id": "lt-22r20sV0h",
        "colab": {
          "base_uri": "https://localhost:8080/"
        },
        "outputId": "be458d1d-0445-4396-a9d2-f733738df3c3"
      },
      "source": [
        "%%time\n",
        "# df.apply(some_func, var1='DOG', axis=1)\n",
        "data['content'] = data['content'].apply(clean_text,stopwords=stop_words)\n",
        "data['content'] = data['content'].apply(normalize)"
      ],
      "execution_count": null,
      "outputs": [
        {
          "output_type": "stream",
          "text": [
            "CPU times: user 1min 8s, sys: 96.7 ms, total: 1min 8s\n",
            "Wall time: 1min 8s\n"
          ],
          "name": "stdout"
        }
      ]
    },
    {
      "cell_type": "code",
      "metadata": {
        "id": "wBnJhn8gjdaD"
      },
      "source": [
        "def checkLen(data):\n",
        "  return len(data.split())\n",
        "data['Len'] = data['content'].apply(checkLen)"
      ],
      "execution_count": null,
      "outputs": []
    },
    {
      "cell_type": "code",
      "metadata": {
        "colab": {
          "base_uri": "https://localhost:8080/"
        },
        "id": "hvrltX0ikxUH",
        "outputId": "d427be62-667e-48ab-8ff5-c7caafe4d0dd"
      },
      "source": [
        "len(data)"
      ],
      "execution_count": null,
      "outputs": [
        {
          "output_type": "execute_result",
          "data": {
            "text/plain": [
              "625"
            ]
          },
          "metadata": {
            "tags": []
          },
          "execution_count": 109
        }
      ]
    },
    {
      "cell_type": "code",
      "metadata": {
        "id": "4ux7vWNwjdaE"
      },
      "source": [
        "data = data[data['Len'] > 10].reset_index(drop=True)"
      ],
      "execution_count": null,
      "outputs": []
    },
    {
      "cell_type": "code",
      "metadata": {
        "id": "eAGUSaSEpvbl",
        "colab": {
          "base_uri": "https://localhost:8080/"
        },
        "outputId": "8cf34a23-2c47-4ccb-a837-49364199b97c"
      },
      "source": [
        "len(data)"
      ],
      "execution_count": null,
      "outputs": [
        {
          "output_type": "execute_result",
          "data": {
            "text/plain": [
              "619"
            ]
          },
          "metadata": {
            "tags": []
          },
          "execution_count": 111
        }
      ]
    },
    {
      "cell_type": "code",
      "metadata": {
        "colab": {
          "base_uri": "https://localhost:8080/"
        },
        "id": "U23ioO3kLXI2",
        "outputId": "6318d7f5-c02c-4884-c070-7cfb58001a0d"
      },
      "source": [
        "from sklearn.model_selection import train_test_split\n",
        "\n",
        "TRAIN_SIZE = 0.8\n",
        "\n",
        "df_train, df_test = train_test_split(data, test_size=1-TRAIN_SIZE, random_state=42)\n",
        "print(\"TRAIN size:\", len(df_train))\n",
        "print(\"TEST size:\", len(df_test))"
      ],
      "execution_count": null,
      "outputs": [
        {
          "output_type": "stream",
          "text": [
            "TRAIN size: 495\n",
            "TEST size: 124\n"
          ],
          "name": "stdout"
        }
      ]
    },
    {
      "cell_type": "markdown",
      "metadata": {
        "id": "Nnx_YQ18dqjd"
      },
      "source": [
        "## Feature Extraction"
      ]
    },
    {
      "cell_type": "code",
      "metadata": {
        "id": "aqo_95L9RPEA"
      },
      "source": [
        "# data = dataCheck.copy()\n",
        "# # Ubah fitur menjadi bentuk TFIDF dengan jumlah kata 150\n",
        "mx_feat = 1000\n",
        "vectorizer = CountVectorizer(max_features=mx_feat)\n",
        "bow_data_train = vectorizer.fit_transform(df_train['content'])\n",
        "bow_data_train = pd.DataFrame.sparse.from_spmatrix(bow_data_train,columns=vectorizer.get_feature_names())\n",
        "\n",
        "bow_data_test = vectorizer.transform(df_test['content'])\n",
        "bow_data_test = pd.DataFrame.sparse.from_spmatrix(bow_data_test,columns=vectorizer.get_feature_names())\n",
        "# data = data.join(bow_data)"
      ],
      "execution_count": null,
      "outputs": []
    },
    {
      "cell_type": "code",
      "metadata": {
        "colab": {
          "base_uri": "https://localhost:8080/"
        },
        "id": "k65yVqpZtAiB",
        "outputId": "4762ccb3-e05d-4486-aeb5-5ff67d2b80a7"
      },
      "source": [
        "joblib.dump(vectorizer, 'CountVectorizerTopic.pkl')"
      ],
      "execution_count": null,
      "outputs": [
        {
          "output_type": "execute_result",
          "data": {
            "text/plain": [
              "['CountVectorizerTopic.pkl']"
            ]
          },
          "metadata": {
            "tags": []
          },
          "execution_count": 114
        }
      ]
    },
    {
      "cell_type": "markdown",
      "metadata": {
        "id": "WiJ9zzQJ3w4N"
      },
      "source": [
        "## Modeling"
      ]
    },
    {
      "cell_type": "code",
      "metadata": {
        "id": "vhVUjxgZ0weN"
      },
      "source": [
        "# Metrics\n",
        "from sklearn.metrics import accuracy_score"
      ],
      "execution_count": null,
      "outputs": []
    },
    {
      "cell_type": "code",
      "metadata": {
        "id": "z0PXupOvNG5e"
      },
      "source": [
        "x_train = bow_data_train.values\n",
        "x_test = bow_data_test.values"
      ],
      "execution_count": null,
      "outputs": []
    },
    {
      "cell_type": "code",
      "metadata": {
        "colab": {
          "base_uri": "https://localhost:8080/"
        },
        "id": "dul6iEHJMZD6",
        "outputId": "925e2e16-dc81-4518-9e80-999b0f85f4a3"
      },
      "source": [
        "from sklearn.preprocessing import OneHotEncoder\n",
        "\n",
        "encoder = OneHotEncoder(sparse=False)\n",
        "encoder.fit(df_train['Label Topic Classification'].values.reshape(-1,1))\n",
        "\n",
        "y_train = encoder.transform(df_train['Label Topic Classification'].values.reshape(-1,1))\n",
        "y_test = encoder.transform(df_test['Label Topic Classification'].values.reshape(-1,1))\n",
        "\n",
        "print(\"y_train\",y_train.shape)\n",
        "print(\"y_test\",y_test.shape)"
      ],
      "execution_count": null,
      "outputs": [
        {
          "output_type": "stream",
          "text": [
            "y_train (495, 9)\n",
            "y_test (124, 9)\n"
          ],
          "name": "stdout"
        }
      ]
    },
    {
      "cell_type": "code",
      "metadata": {
        "id": "uwGYr6GRMh06"
      },
      "source": [
        "dropout = 0.1\n",
        "def make_nn(dropout):\n",
        "  inputs = Input(shape=(mx_feat,))\n",
        "  layer = Dense(32, activation=\"relu\")(inputs)\n",
        "  layer = Dense(32, activation=\"relu\")(layer)\n",
        "  layer = Dropout(dropout)(layer)\n",
        "  layer = Dense(9, activation=\"softmax\")(layer)\n",
        "  model = Model(inputs, layer)\n",
        "  return model\n",
        "model = make_nn(dropout)"
      ],
      "execution_count": null,
      "outputs": []
    },
    {
      "cell_type": "code",
      "metadata": {
        "id": "34wbxvBFNCuM",
        "colab": {
          "base_uri": "https://localhost:8080/"
        },
        "outputId": "e98b2fd5-81a7-48e3-d874-cbd93fabf7d9"
      },
      "source": [
        "lr_schedule = tf.keras.callbacks.LearningRateScheduler(\n",
        "    lambda epoch: 1e-6 * 10**(epoch / 10))\n",
        "model.compile(loss='categorical_crossentropy', optimizer=tf.keras.optimizers.Adam(lr=1e-6), metrics=['accuracy'])\n",
        "history = model.fit(x_train, y_train,validation_data=(x_test,y_test), batch_size=8, epochs=70, callbacks=[lr_schedule],verbose=1)"
      ],
      "execution_count": null,
      "outputs": [
        {
          "output_type": "stream",
          "text": [
            "Epoch 1/70\n",
            "62/62 [==============================] - 1s 6ms/step - loss: 0.7816 - accuracy: 0.1328 - val_loss: 0.7646 - val_accuracy: 0.1210\n",
            "Epoch 2/70\n",
            "62/62 [==============================] - 0s 2ms/step - loss: 0.7767 - accuracy: 0.1269 - val_loss: 0.7634 - val_accuracy: 0.1210\n",
            "Epoch 3/70\n",
            "62/62 [==============================] - 0s 2ms/step - loss: 0.7758 - accuracy: 0.1162 - val_loss: 0.7618 - val_accuracy: 0.1210\n",
            "Epoch 4/70\n",
            "62/62 [==============================] - 0s 2ms/step - loss: 0.7640 - accuracy: 0.1767 - val_loss: 0.7600 - val_accuracy: 0.1210\n",
            "Epoch 5/70\n",
            "62/62 [==============================] - 0s 2ms/step - loss: 0.7618 - accuracy: 0.1456 - val_loss: 0.7577 - val_accuracy: 0.1210\n",
            "Epoch 6/70\n",
            "62/62 [==============================] - 0s 2ms/step - loss: 0.7650 - accuracy: 0.1563 - val_loss: 0.7547 - val_accuracy: 0.1210\n",
            "Epoch 7/70\n",
            "62/62 [==============================] - 0s 2ms/step - loss: 0.7555 - accuracy: 0.1414 - val_loss: 0.7511 - val_accuracy: 0.1210\n",
            "Epoch 8/70\n",
            "62/62 [==============================] - 0s 2ms/step - loss: 0.7595 - accuracy: 0.1296 - val_loss: 0.7466 - val_accuracy: 0.1210\n",
            "Epoch 9/70\n",
            "62/62 [==============================] - 0s 2ms/step - loss: 0.7499 - accuracy: 0.1544 - val_loss: 0.7412 - val_accuracy: 0.1129\n",
            "Epoch 10/70\n",
            "62/62 [==============================] - 0s 2ms/step - loss: 0.7478 - accuracy: 0.1316 - val_loss: 0.7348 - val_accuracy: 0.1210\n",
            "Epoch 11/70\n",
            "62/62 [==============================] - 0s 2ms/step - loss: 0.7493 - accuracy: 0.1205 - val_loss: 0.7271 - val_accuracy: 0.1210\n",
            "Epoch 12/70\n",
            "62/62 [==============================] - 0s 2ms/step - loss: 0.7363 - accuracy: 0.1396 - val_loss: 0.7178 - val_accuracy: 0.1210\n",
            "Epoch 13/70\n",
            "62/62 [==============================] - 0s 2ms/step - loss: 0.7111 - accuracy: 0.1764 - val_loss: 0.7066 - val_accuracy: 0.1048\n",
            "Epoch 14/70\n",
            "62/62 [==============================] - 0s 2ms/step - loss: 0.7101 - accuracy: 0.1453 - val_loss: 0.6933 - val_accuracy: 0.1048\n",
            "Epoch 15/70\n",
            "62/62 [==============================] - 0s 2ms/step - loss: 0.6845 - accuracy: 0.1494 - val_loss: 0.6779 - val_accuracy: 0.1048\n",
            "Epoch 16/70\n",
            "62/62 [==============================] - 0s 2ms/step - loss: 0.6758 - accuracy: 0.1248 - val_loss: 0.6598 - val_accuracy: 0.1210\n",
            "Epoch 17/70\n",
            "62/62 [==============================] - 0s 2ms/step - loss: 0.6543 - accuracy: 0.1503 - val_loss: 0.6379 - val_accuracy: 0.1290\n",
            "Epoch 18/70\n",
            "62/62 [==============================] - 0s 2ms/step - loss: 0.6276 - accuracy: 0.1653 - val_loss: 0.6114 - val_accuracy: 0.1129\n",
            "Epoch 19/70\n",
            "62/62 [==============================] - 0s 2ms/step - loss: 0.5985 - accuracy: 0.1705 - val_loss: 0.5788 - val_accuracy: 0.1290\n",
            "Epoch 20/70\n",
            "62/62 [==============================] - 0s 2ms/step - loss: 0.5665 - accuracy: 0.1747 - val_loss: 0.5369 - val_accuracy: 0.1532\n",
            "Epoch 21/70\n",
            "62/62 [==============================] - 0s 2ms/step - loss: 0.5206 - accuracy: 0.1833 - val_loss: 0.4870 - val_accuracy: 0.1774\n",
            "Epoch 22/70\n",
            "62/62 [==============================] - 0s 2ms/step - loss: 0.4799 - accuracy: 0.2275 - val_loss: 0.4336 - val_accuracy: 0.2097\n",
            "Epoch 23/70\n",
            "62/62 [==============================] - 0s 2ms/step - loss: 0.4237 - accuracy: 0.2112 - val_loss: 0.3865 - val_accuracy: 0.3145\n",
            "Epoch 24/70\n",
            "62/62 [==============================] - 0s 2ms/step - loss: 0.3853 - accuracy: 0.3071 - val_loss: 0.3471 - val_accuracy: 0.4516\n",
            "Epoch 25/70\n",
            "62/62 [==============================] - 0s 2ms/step - loss: 0.3459 - accuracy: 0.3988 - val_loss: 0.3161 - val_accuracy: 0.4758\n",
            "Epoch 26/70\n",
            "62/62 [==============================] - 0s 2ms/step - loss: 0.3020 - accuracy: 0.4858 - val_loss: 0.2884 - val_accuracy: 0.5323\n",
            "Epoch 27/70\n",
            "62/62 [==============================] - 0s 2ms/step - loss: 0.2727 - accuracy: 0.5529 - val_loss: 0.2630 - val_accuracy: 0.5645\n",
            "Epoch 28/70\n",
            "62/62 [==============================] - 0s 2ms/step - loss: 0.2473 - accuracy: 0.6072 - val_loss: 0.2415 - val_accuracy: 0.6210\n",
            "Epoch 29/70\n",
            "62/62 [==============================] - 0s 2ms/step - loss: 0.2113 - accuracy: 0.7187 - val_loss: 0.2226 - val_accuracy: 0.6371\n",
            "Epoch 30/70\n",
            "62/62 [==============================] - 0s 2ms/step - loss: 0.1779 - accuracy: 0.7835 - val_loss: 0.2085 - val_accuracy: 0.6694\n",
            "Epoch 31/70\n",
            "62/62 [==============================] - 0s 2ms/step - loss: 0.1489 - accuracy: 0.8367 - val_loss: 0.1931 - val_accuracy: 0.6855\n",
            "Epoch 32/70\n",
            "62/62 [==============================] - 0s 2ms/step - loss: 0.1113 - accuracy: 0.9048 - val_loss: 0.1822 - val_accuracy: 0.7258\n",
            "Epoch 33/70\n",
            "62/62 [==============================] - 0s 2ms/step - loss: 0.0844 - accuracy: 0.9242 - val_loss: 0.1748 - val_accuracy: 0.7419\n",
            "Epoch 34/70\n",
            "62/62 [==============================] - 0s 2ms/step - loss: 0.0602 - accuracy: 0.9528 - val_loss: 0.1836 - val_accuracy: 0.7419\n",
            "Epoch 35/70\n",
            "62/62 [==============================] - 0s 2ms/step - loss: 0.0393 - accuracy: 0.9784 - val_loss: 0.1802 - val_accuracy: 0.6935\n",
            "Epoch 36/70\n",
            "62/62 [==============================] - 0s 2ms/step - loss: 0.0393 - accuracy: 0.9812 - val_loss: 0.1859 - val_accuracy: 0.7339\n",
            "Epoch 37/70\n",
            "62/62 [==============================] - 0s 2ms/step - loss: 0.0257 - accuracy: 0.9816 - val_loss: 0.2105 - val_accuracy: 0.7339\n",
            "Epoch 38/70\n",
            "62/62 [==============================] - 0s 2ms/step - loss: 0.0274 - accuracy: 0.9773 - val_loss: 0.2360 - val_accuracy: 0.7339\n",
            "Epoch 39/70\n",
            "62/62 [==============================] - 0s 2ms/step - loss: 0.0231 - accuracy: 0.9840 - val_loss: 0.3346 - val_accuracy: 0.6935\n",
            "Epoch 40/70\n",
            "62/62 [==============================] - 0s 2ms/step - loss: 0.0493 - accuracy: 0.9676 - val_loss: 0.3067 - val_accuracy: 0.6129\n",
            "Epoch 41/70\n",
            "62/62 [==============================] - 0s 2ms/step - loss: 0.0847 - accuracy: 0.9305 - val_loss: 0.2800 - val_accuracy: 0.7097\n",
            "Epoch 42/70\n",
            "62/62 [==============================] - 0s 2ms/step - loss: 0.0860 - accuracy: 0.9268 - val_loss: 0.2718 - val_accuracy: 0.6774\n",
            "Epoch 43/70\n",
            "62/62 [==============================] - 0s 2ms/step - loss: 0.0927 - accuracy: 0.9295 - val_loss: 0.2985 - val_accuracy: 0.6371\n",
            "Epoch 44/70\n",
            "62/62 [==============================] - 0s 2ms/step - loss: 0.0572 - accuracy: 0.9485 - val_loss: 0.4012 - val_accuracy: 0.5726\n",
            "Epoch 45/70\n",
            "62/62 [==============================] - 0s 2ms/step - loss: 0.2814 - accuracy: 0.8093 - val_loss: 0.5898 - val_accuracy: 0.5403\n",
            "Epoch 46/70\n",
            "62/62 [==============================] - 0s 2ms/step - loss: 0.3918 - accuracy: 0.6982 - val_loss: 0.4694 - val_accuracy: 0.6129\n",
            "Epoch 47/70\n",
            "62/62 [==============================] - 0s 2ms/step - loss: 0.5387 - accuracy: 0.5225 - val_loss: 0.3373 - val_accuracy: 0.3145\n",
            "Epoch 48/70\n",
            "62/62 [==============================] - 0s 2ms/step - loss: 0.3573 - accuracy: 0.3122 - val_loss: 0.3145 - val_accuracy: 0.2661\n",
            "Epoch 49/70\n",
            "62/62 [==============================] - 0s 2ms/step - loss: 0.3380 - accuracy: 0.2983 - val_loss: 0.3273 - val_accuracy: 0.2339\n",
            "Epoch 50/70\n",
            "62/62 [==============================] - 0s 2ms/step - loss: 0.3686 - accuracy: 0.2355 - val_loss: 0.3287 - val_accuracy: 0.2258\n",
            "Epoch 51/70\n",
            "62/62 [==============================] - 0s 2ms/step - loss: 0.3184 - accuracy: 0.2567 - val_loss: 0.3381 - val_accuracy: 0.2419\n",
            "Epoch 52/70\n",
            "62/62 [==============================] - 0s 2ms/step - loss: 0.3290 - accuracy: 0.2270 - val_loss: 0.3302 - val_accuracy: 0.2258\n",
            "Epoch 53/70\n",
            "62/62 [==============================] - 0s 2ms/step - loss: 0.3323 - accuracy: 0.2074 - val_loss: 0.3341 - val_accuracy: 0.2258\n",
            "Epoch 54/70\n",
            "62/62 [==============================] - 0s 2ms/step - loss: 0.3301 - accuracy: 0.2534 - val_loss: 0.3327 - val_accuracy: 0.2258\n",
            "Epoch 55/70\n",
            "62/62 [==============================] - 0s 2ms/step - loss: 0.3918 - accuracy: 0.2469 - val_loss: 1.3760 - val_accuracy: 0.2177\n",
            "Epoch 56/70\n",
            "62/62 [==============================] - 0s 2ms/step - loss: 0.7759 - accuracy: 0.2246 - val_loss: 0.3318 - val_accuracy: 0.2258\n",
            "Epoch 57/70\n",
            "62/62 [==============================] - 0s 2ms/step - loss: 0.4382 - accuracy: 0.2014 - val_loss: 0.3272 - val_accuracy: 0.2500\n",
            "Epoch 58/70\n",
            "62/62 [==============================] - 0s 2ms/step - loss: 0.3478 - accuracy: 0.1778 - val_loss: 0.3298 - val_accuracy: 0.2258\n",
            "Epoch 59/70\n",
            "62/62 [==============================] - 0s 2ms/step - loss: 0.3557 - accuracy: 0.1324 - val_loss: 0.3474 - val_accuracy: 0.2258\n",
            "Epoch 60/70\n",
            "62/62 [==============================] - 0s 2ms/step - loss: 0.3529 - accuracy: 0.1898 - val_loss: 0.3443 - val_accuracy: 0.2258\n",
            "Epoch 61/70\n",
            "62/62 [==============================] - 0s 2ms/step - loss: 0.3469 - accuracy: 0.2234 - val_loss: 0.3565 - val_accuracy: 0.2258\n",
            "Epoch 62/70\n",
            "62/62 [==============================] - 0s 2ms/step - loss: 0.3588 - accuracy: 0.2032 - val_loss: 0.3658 - val_accuracy: 0.2500\n",
            "Epoch 63/70\n",
            "62/62 [==============================] - 0s 2ms/step - loss: 0.3821 - accuracy: 0.1882 - val_loss: 0.3865 - val_accuracy: 0.2500\n",
            "Epoch 64/70\n",
            "62/62 [==============================] - 0s 2ms/step - loss: 0.3838 - accuracy: 0.1702 - val_loss: 0.3406 - val_accuracy: 0.2500\n",
            "Epoch 65/70\n",
            "62/62 [==============================] - 0s 2ms/step - loss: 0.3875 - accuracy: 0.1875 - val_loss: 0.3436 - val_accuracy: 0.0565\n",
            "Epoch 66/70\n",
            "62/62 [==============================] - 0s 3ms/step - loss: 0.4333 - accuracy: 0.1243 - val_loss: 0.3456 - val_accuracy: 0.2258\n",
            "Epoch 67/70\n",
            "62/62 [==============================] - 0s 2ms/step - loss: 0.4409 - accuracy: 0.1745 - val_loss: 0.4426 - val_accuracy: 0.2258\n",
            "Epoch 68/70\n",
            "62/62 [==============================] - 0s 2ms/step - loss: 0.5170 - accuracy: 0.1480 - val_loss: 0.3597 - val_accuracy: 0.2500\n",
            "Epoch 69/70\n",
            "62/62 [==============================] - 0s 2ms/step - loss: 0.5376 - accuracy: 0.1478 - val_loss: 0.5439 - val_accuracy: 0.0887\n",
            "Epoch 70/70\n",
            "62/62 [==============================] - 0s 2ms/step - loss: 0.6116 - accuracy: 0.1547 - val_loss: 0.6067 - val_accuracy: 0.1210\n"
          ],
          "name": "stdout"
        }
      ]
    },
    {
      "cell_type": "code",
      "metadata": {
        "id": "4PYX42TgN2Zt",
        "colab": {
          "base_uri": "https://localhost:8080/",
          "height": 304
        },
        "outputId": "d5844987-21d7-4bee-992b-2989aca83a7c"
      },
      "source": [
        "plt.xlabel('learning rate')\n",
        "plt.ylabel('val_loss')\n",
        "plt.semilogx(history.history[\"lr\"], history.history[\"val_loss\"])\n",
        "plt.axis([1e-6, 1e0, 0, 2])"
      ],
      "execution_count": null,
      "outputs": [
        {
          "output_type": "execute_result",
          "data": {
            "text/plain": [
              "(1e-06, 1.0, 0.0, 2.0)"
            ]
          },
          "metadata": {
            "tags": []
          },
          "execution_count": 120
        },
        {
          "output_type": "display_data",
          "data": {
            "image/png": "[encoded data removed]",
            "text/plain": [
              "<Figure size 432x288 with 1 Axes>"
            ]
          },
          "metadata": {
            "tags": [],
            "needs_background": "light"
          }
        }
      ]
    },
    {
      "cell_type": "code",
      "metadata": {
        "colab": {
          "base_uri": "https://localhost:8080/"
        },
        "id": "jIlcSOnkN9wT",
        "outputId": "284e973a-6ab7-46c4-9554-2e0467abfcca"
      },
      "source": [
        "model = make_nn(dropout)\n",
        "model.compile(loss='binary_crossentropy', optimizer=tf.keras.optimizers.Adam(lr=4*1e-4), metrics=['accuracy'])\n",
        "history = model.fit(x_train, y_train,validation_data=(x_test,y_test), batch_size=8, epochs=20,verbose=1)"
      ],
      "execution_count": null,
      "outputs": [
        {
          "output_type": "stream",
          "text": [
            "Epoch 1/20\n",
            "62/62 [==============================] - 1s 6ms/step - loss: 0.6332 - accuracy: 0.0940 - val_loss: 0.4535 - val_accuracy: 0.2258\n",
            "Epoch 2/20\n",
            "62/62 [==============================] - 0s 2ms/step - loss: 0.4290 - accuracy: 0.2358 - val_loss: 0.3401 - val_accuracy: 0.3952\n",
            "Epoch 3/20\n",
            "62/62 [==============================] - 0s 2ms/step - loss: 0.3365 - accuracy: 0.3738 - val_loss: 0.2866 - val_accuracy: 0.5484\n",
            "Epoch 4/20\n",
            "62/62 [==============================] - 0s 2ms/step - loss: 0.2691 - accuracy: 0.5311 - val_loss: 0.2559 - val_accuracy: 0.6613\n",
            "Epoch 5/20\n",
            "62/62 [==============================] - 0s 2ms/step - loss: 0.2298 - accuracy: 0.6626 - val_loss: 0.2297 - val_accuracy: 0.7177\n",
            "Epoch 6/20\n",
            "62/62 [==============================] - 0s 2ms/step - loss: 0.2051 - accuracy: 0.7131 - val_loss: 0.2119 - val_accuracy: 0.7258\n",
            "Epoch 7/20\n",
            "62/62 [==============================] - 0s 2ms/step - loss: 0.1676 - accuracy: 0.7952 - val_loss: 0.1977 - val_accuracy: 0.7419\n",
            "Epoch 8/20\n",
            "62/62 [==============================] - 0s 2ms/step - loss: 0.1530 - accuracy: 0.8402 - val_loss: 0.1854 - val_accuracy: 0.7419\n",
            "Epoch 9/20\n",
            "62/62 [==============================] - 0s 2ms/step - loss: 0.1336 - accuracy: 0.8456 - val_loss: 0.1754 - val_accuracy: 0.7500\n",
            "Epoch 10/20\n",
            "62/62 [==============================] - 0s 3ms/step - loss: 0.1123 - accuracy: 0.9034 - val_loss: 0.1663 - val_accuracy: 0.7419\n",
            "Epoch 11/20\n",
            "62/62 [==============================] - 0s 2ms/step - loss: 0.1071 - accuracy: 0.8805 - val_loss: 0.1604 - val_accuracy: 0.7661\n",
            "Epoch 12/20\n",
            "62/62 [==============================] - 0s 2ms/step - loss: 0.1022 - accuracy: 0.9076 - val_loss: 0.1548 - val_accuracy: 0.7581\n",
            "Epoch 13/20\n",
            "62/62 [==============================] - 0s 2ms/step - loss: 0.0834 - accuracy: 0.9279 - val_loss: 0.1513 - val_accuracy: 0.7581\n",
            "Epoch 14/20\n",
            "62/62 [==============================] - 0s 2ms/step - loss: 0.0672 - accuracy: 0.9683 - val_loss: 0.1511 - val_accuracy: 0.7661\n",
            "Epoch 15/20\n",
            "62/62 [==============================] - 0s 2ms/step - loss: 0.0649 - accuracy: 0.9601 - val_loss: 0.1465 - val_accuracy: 0.7823\n",
            "Epoch 16/20\n",
            "62/62 [==============================] - 0s 2ms/step - loss: 0.0575 - accuracy: 0.9588 - val_loss: 0.1461 - val_accuracy: 0.7823\n",
            "Epoch 17/20\n",
            "62/62 [==============================] - 0s 2ms/step - loss: 0.0451 - accuracy: 0.9898 - val_loss: 0.1471 - val_accuracy: 0.7581\n",
            "Epoch 18/20\n",
            "62/62 [==============================] - 0s 2ms/step - loss: 0.0479 - accuracy: 0.9805 - val_loss: 0.1462 - val_accuracy: 0.7581\n",
            "Epoch 19/20\n",
            "62/62 [==============================] - 0s 2ms/step - loss: 0.0385 - accuracy: 0.9697 - val_loss: 0.1457 - val_accuracy: 0.7984\n",
            "Epoch 20/20\n",
            "62/62 [==============================] - 0s 2ms/step - loss: 0.0346 - accuracy: 0.9868 - val_loss: 0.1451 - val_accuracy: 0.8065\n"
          ],
          "name": "stdout"
        }
      ]
    },
    {
      "cell_type": "code",
      "metadata": {
        "id": "ypsrQU3sOKJ8"
      },
      "source": [
        "pred = model.predict(x_test)"
      ],
      "execution_count": null,
      "outputs": []
    },
    {
      "cell_type": "code",
      "metadata": {
        "colab": {
          "base_uri": "https://localhost:8080/"
        },
        "id": "s8MZYFirOsbv",
        "outputId": "4e91d7e6-30b8-40b1-b314-8ebe450c647a"
      },
      "source": [
        "accuracy_score(np.argmax(pred, axis=1),np.argmax(y_test, axis=1))"
      ],
      "execution_count": null,
      "outputs": [
        {
          "output_type": "execute_result",
          "data": {
            "text/plain": [
              "0.8064516129032258"
            ]
          },
          "metadata": {
            "tags": []
          },
          "execution_count": 124
        }
      ]
    },
    {
      "cell_type": "code",
      "metadata": {
        "colab": {
          "base_uri": "https://localhost:8080/"
        },
        "id": "o5MmT58ovXqy",
        "outputId": "59b4c93c-8359-465f-e172-fabc9ebc36c6"
      },
      "source": [
        "model.save('model')"
      ],
      "execution_count": null,
      "outputs": [
        {
          "output_type": "stream",
          "text": [
            "INFO:tensorflow:Assets written to: model/assets\n"
          ],
          "name": "stdout"
        }
      ]
    },
    {
      "cell_type": "code",
      "metadata": {
        "colab": {
          "base_uri": "https://localhost:8080/"
        },
        "id": "2g4bqgFYHBhT",
        "outputId": "5df31ed2-5d36-496a-9d3f-ec25c3e33986"
      },
      "source": [
        "!zip -r '/content/model.zip' '/content/model'"
      ],
      "execution_count": null,
      "outputs": [
        {
          "output_type": "stream",
          "text": [
            "  adding: content/model/ (stored 0%)\n",
            "  adding: content/model/assets/ (stored 0%)\n",
            "  adding: content/model/saved_model.pb (deflated 88%)\n",
            "  adding: content/model/keras_metadata.pb (deflated 87%)\n",
            "  adding: content/model/variables/ (stored 0%)\n",
            "  adding: content/model/variables/variables.index (deflated 63%)\n",
            "  adding: content/model/variables/variables.data-00000-of-00001 (deflated 8%)\n"
          ],
          "name": "stdout"
        }
      ]
    },
    {
      "cell_type": "markdown",
      "metadata": {
        "id": "7_f5wELEmWnc"
      },
      "source": [
        "# ML 2"
      ]
    },
    {
      "cell_type": "markdown",
      "metadata": {
        "id": "lyuoAtzsmmbu"
      },
      "source": [
        "## Cleaning"
      ]
    },
    {
      "cell_type": "code",
      "metadata": {
        "id": "8ydk0MGPmn41",
        "colab": {
          "base_uri": "https://localhost:8080/"
        },
        "outputId": "a56b4fdb-2da2-4aa5-9128-6888cf348878"
      },
      "source": [
        "import pandas as pd\n",
        "\n",
        "data = pd.read_excel('../Data/data_baru.xlsx')\n",
        "stop_words = open(\"../Data/stopword.txt\", \"r\").read().split()\n",
        "dic = pd.read_csv('../Data/normalize_word.csv')"
      ],
      "execution_count": null,
      "outputs": [
        {
          "output_type": "stream",
          "text": [
            "\n"
          ],
          "name": "stdout"
        }
      ]
    },
    {
      "cell_type": "code",
      "metadata": {
        "id": "8G_OcXiHH5hE"
      },
      "source": [
        "data = pd.read_excel('/content/data_topic.xlsx')\n",
        "stop_words = open(\"/content/stopword.txt\", \"r\").read().split()\n",
        "dic = pd.read_csv('/content/normalize_word.csv')"
      ],
      "execution_count": null,
      "outputs": []
    },
    {
      "cell_type": "code",
      "metadata": {
        "id": "J6jkds64IrFT"
      },
      "source": [
        "data.loc[data[data['Label Topic Classification'] == 7].index,'Label Topic Classification']=12\n",
        "data.loc[data[data['Label Topic Classification'] == 8].index,'Label Topic Classification']=4\n",
        "data.loc[data[data['Label Topic Classification'] == 5].index,'Label Topic Classification']=10"
      ],
      "execution_count": null,
      "outputs": []
    },
    {
      "cell_type": "code",
      "metadata": {
        "id": "0Xbi1rm-nFGI"
      },
      "source": [
        "def normalize(text):\n",
        "    text = text.split()\n",
        "    for val in dic.itertuples(index=False):\n",
        "        text = [w.replace(val.slang, val.formal) if w == val.slang else w for w in text]\n",
        "    return \" \".join(text)"
      ],
      "execution_count": null,
      "outputs": []
    },
    {
      "cell_type": "code",
      "metadata": {
        "id": "oIZ7bQFsnGLh"
      },
      "source": [
        "import re\n",
        "import string\n",
        "\n",
        "# bersihkan teks\n",
        "def clean_text(text,stopwords):\n",
        "    '''Make text lowercase, remove text in square brackets, remove punctuation and remove words containing numbers.'''\n",
        "    text = str(text)\n",
        "    text = text.lower()\n",
        "    text = re.sub('\\[.*?\\]', '', text)\n",
        "    text = re.sub('[%s]' % re.escape(string.punctuation), '', text)\n",
        "    text = re.sub('\\w*\\d\\w*', '', text)\n",
        "    text = re.sub('[‘’“”…]', '', text)\n",
        "    text = re.sub('\\n', ' ', text)\n",
        "    text = re.sub('\\r', ' ', text)\n",
        "    text = ' '.join([word for word in text.split() if word.lower() not in stopwords])\n",
        "    return text\n",
        "data['content'] = data['content'].apply(clean_text,stopwords=stop_words)"
      ],
      "execution_count": null,
      "outputs": []
    },
    {
      "cell_type": "code",
      "metadata": {
        "id": "RsU7DUmYp_OR",
        "colab": {
          "base_uri": "https://localhost:8080/"
        },
        "outputId": "c02d859a-a489-4038-a195-63b450e5a37f"
      },
      "source": [
        "%%time\n",
        "data['content'] = data['content'].apply(clean_text, stopwords=stop_words)\n",
        "data['content'] = data['content'].apply(normalize)"
      ],
      "execution_count": null,
      "outputs": [
        {
          "output_type": "stream",
          "text": [
            "CPU times: user 1min 8s, sys: 107 ms, total: 1min 8s\n",
            "Wall time: 1min 8s\n"
          ],
          "name": "stdout"
        }
      ]
    },
    {
      "cell_type": "code",
      "metadata": {
        "id": "oc7YPMHHnSLz"
      },
      "source": [
        "def checkLen(data):\n",
        "  return len(data.split())\n",
        "data['Len'] = data['content'].apply(checkLen)"
      ],
      "execution_count": null,
      "outputs": []
    },
    {
      "cell_type": "code",
      "metadata": {
        "colab": {
          "base_uri": "https://localhost:8080/"
        },
        "id": "YN4g_DuUnPlb",
        "outputId": "f503edf9-5625-4d0f-b43a-f160b1154f60"
      },
      "source": [
        "len(data)"
      ],
      "execution_count": null,
      "outputs": [
        {
          "output_type": "execute_result",
          "data": {
            "text/plain": [
              "625"
            ]
          },
          "metadata": {
            "tags": []
          },
          "execution_count": 161
        }
      ]
    },
    {
      "cell_type": "code",
      "metadata": {
        "id": "HCdjdS7OnXGC"
      },
      "source": [
        "data = data[data['Len'] > 10].reset_index(drop=True)"
      ],
      "execution_count": null,
      "outputs": []
    },
    {
      "cell_type": "code",
      "metadata": {
        "colab": {
          "base_uri": "https://localhost:8080/"
        },
        "id": "OGyym0TXnY7N",
        "outputId": "c4ea2596-ca51-45aa-ae71-78691d5a6c08"
      },
      "source": [
        "len(data)"
      ],
      "execution_count": null,
      "outputs": [
        {
          "output_type": "execute_result",
          "data": {
            "text/plain": [
              "619"
            ]
          },
          "metadata": {
            "tags": []
          },
          "execution_count": 163
        }
      ]
    },
    {
      "cell_type": "code",
      "metadata": {
        "colab": {
          "base_uri": "https://localhost:8080/"
        },
        "id": "Lcg0A6_Qnwzn",
        "outputId": "970b66d2-c169-49cb-d5cb-c311c37e8d91"
      },
      "source": [
        "from sklearn.model_selection import train_test_split\n",
        "\n",
        "TRAIN_SIZE = 0.8\n",
        "\n",
        "df_train, df_test = train_test_split(data, test_size=1-TRAIN_SIZE, random_state=42)\n",
        "print(\"TRAIN size:\", len(df_train))\n",
        "print(\"TEST size:\", len(df_test))"
      ],
      "execution_count": null,
      "outputs": [
        {
          "output_type": "stream",
          "text": [
            "TRAIN size: 495\n",
            "TEST size: 124\n"
          ],
          "name": "stdout"
        }
      ]
    },
    {
      "cell_type": "markdown",
      "metadata": {
        "id": "U_EdjUdpcWSZ"
      },
      "source": [
        "## Word2vec"
      ]
    },
    {
      "cell_type": "code",
      "metadata": {
        "colab": {
          "base_uri": "https://localhost:8080/"
        },
        "id": "az4s2hOncbuc",
        "outputId": "6a4fcd65-3b44-4cde-d999-66441a9c4e76"
      },
      "source": [
        "%%time\n",
        "documents = [_content.split() for _content in df_train.content] "
      ],
      "execution_count": null,
      "outputs": [
        {
          "output_type": "stream",
          "text": [
            "CPU times: user 12.5 ms, sys: 0 ns, total: 12.5 ms\n",
            "Wall time: 16.2 ms\n"
          ],
          "name": "stdout"
        }
      ]
    },
    {
      "cell_type": "code",
      "metadata": {
        "id": "W11b-LsMcea8"
      },
      "source": [
        "import gensim\n",
        "\n",
        "# WORD2VEC \n",
        "W2V_SIZE = 200\n",
        "W2V_WINDOW = 7\n",
        "W2V_EPOCH = 32\n",
        "W2V_MIN_COUNT = 10\n",
        "\n",
        "w2v_model = gensim.models.word2vec.Word2Vec(size=W2V_SIZE, \n",
        "                                            window=W2V_WINDOW, \n",
        "                                            min_count=W2V_MIN_COUNT, \n",
        "                                            workers=8)"
      ],
      "execution_count": null,
      "outputs": []
    },
    {
      "cell_type": "code",
      "metadata": {
        "id": "S9Rz4hKXcfx9"
      },
      "source": [
        "w2v_model.build_vocab(documents)\n"
      ],
      "execution_count": null,
      "outputs": []
    },
    {
      "cell_type": "code",
      "metadata": {
        "colab": {
          "base_uri": "https://localhost:8080/"
        },
        "id": "69FsB-IwcimG",
        "outputId": "42cb6482-378c-4649-d1b2-8811e0e5ab43"
      },
      "source": [
        "words = w2v_model.wv.vocab.keys()\n",
        "vocab_size = len(words)\n",
        "print(\"Vocab size\", vocab_size)"
      ],
      "execution_count": null,
      "outputs": [
        {
          "output_type": "stream",
          "text": [
            "Vocab size 2285\n"
          ],
          "name": "stdout"
        }
      ]
    },
    {
      "cell_type": "code",
      "metadata": {
        "colab": {
          "base_uri": "https://localhost:8080/"
        },
        "id": "yGrVE8gock5d",
        "outputId": "3733e6e1-0ed9-4c4d-cc09-91e50cc73411"
      },
      "source": [
        "%%time\n",
        "w2v_model.train(documents, total_examples=len(documents), epochs=W2V_EPOCH)"
      ],
      "execution_count": null,
      "outputs": [
        {
          "output_type": "stream",
          "text": [
            "CPU times: user 8.21 s, sys: 99.2 ms, total: 8.3 s\n",
            "Wall time: 4.58 s\n"
          ],
          "name": "stdout"
        },
        {
          "output_type": "execute_result",
          "data": {
            "text/plain": [
              "(2434697, 3501856)"
            ]
          },
          "metadata": {
            "tags": []
          },
          "execution_count": 169
        }
      ]
    },
    {
      "cell_type": "code",
      "metadata": {
        "colab": {
          "base_uri": "https://localhost:8080/"
        },
        "id": "HnUzFuH-cmZG",
        "outputId": "51dc80d6-f701-46b8-d10f-cef9f033a151"
      },
      "source": [
        "w2v_model.most_similar(\"jakarta\")\n"
      ],
      "execution_count": null,
      "outputs": [
        {
          "output_type": "execute_result",
          "data": {
            "text/plain": [
              "[('merdeka', 0.6369597911834717),\n",
              " ('medan', 0.5701730251312256),\n",
              " ('pemprov', 0.509030282497406),\n",
              " ('rabu', 0.49615195393562317),\n",
              " ('–', 0.49082109332084656),\n",
              " ('balai', 0.48216354846954346),\n",
              " ('kalimantan', 0.4512553811073303),\n",
              " ('sulawesi', 0.4496494233608246),\n",
              " ('riza', 0.4436049461364746),\n",
              " ('selasa', 0.43577930331230164)]"
            ]
          },
          "metadata": {
            "tags": []
          },
          "execution_count": 170
        }
      ]
    },
    {
      "cell_type": "code",
      "metadata": {
        "colab": {
          "base_uri": "https://localhost:8080/"
        },
        "id": "CctvT7oEco-Z",
        "outputId": "5e27e71c-444e-454e-81cb-fee11c7cc881"
      },
      "source": [
        "%%time\n",
        "\n",
        "from keras.preprocessing.text import Tokenizer\n",
        "\n",
        "tokenizer = Tokenizer()\n",
        "tokenizer.fit_on_texts(df_train.content)\n",
        "\n",
        "vocab_size = len(tokenizer.word_index) + 1\n",
        "print(\"Total words\", vocab_size)"
      ],
      "execution_count": null,
      "outputs": [
        {
          "output_type": "stream",
          "text": [
            "Total words 14976\n",
            "CPU times: user 142 ms, sys: 87.5 ms, total: 229 ms\n",
            "Wall time: 151 ms\n"
          ],
          "name": "stdout"
        }
      ]
    },
    {
      "cell_type": "code",
      "metadata": {
        "colab": {
          "base_uri": "https://localhost:8080/"
        },
        "id": "08mGdWxIcp8F",
        "outputId": "1659168c-c369-43c1-c191-9a1907566664"
      },
      "source": [
        "%%time\n",
        "\n",
        "from keras.preprocessing.sequence import pad_sequences\n",
        "\n",
        "# KERAS\n",
        "SEQUENCE_LENGTH = 200\n",
        "\n",
        "x_train = pad_sequences(tokenizer.texts_to_sequences(df_train.content), maxlen=SEQUENCE_LENGTH)\n",
        "x_test = pad_sequences(tokenizer.texts_to_sequences(df_test.content), maxlen=SEQUENCE_LENGTH)"
      ],
      "execution_count": null,
      "outputs": [
        {
          "output_type": "stream",
          "text": [
            "CPU times: user 88.4 ms, sys: 6.07 ms, total: 94.5 ms\n",
            "Wall time: 91 ms\n"
          ],
          "name": "stdout"
        }
      ]
    },
    {
      "cell_type": "code",
      "metadata": {
        "colab": {
          "base_uri": "https://localhost:8080/"
        },
        "id": "zZaM9R8bn9SR",
        "outputId": "fcbf4182-75ad-4748-8b1a-8e54ab43ab8c"
      },
      "source": [
        "from sklearn.preprocessing import OneHotEncoder\n",
        "\n",
        "encoder = OneHotEncoder(sparse=False)\n",
        "encoder.fit(df_train['Label Topic Classification'].values.reshape(-1,1))\n",
        "\n",
        "y_train = encoder.transform(df_train['Label Topic Classification'].values.reshape(-1,1))\n",
        "y_test = encoder.transform(df_test['Label Topic Classification'].values.reshape(-1,1))\n",
        "\n",
        "print(\"y_train\",y_train.shape)\n",
        "print(\"y_test\",y_test.shape)"
      ],
      "execution_count": null,
      "outputs": [
        {
          "output_type": "stream",
          "text": [
            "y_train (495, 9)\n",
            "y_test (124, 9)\n"
          ],
          "name": "stdout"
        }
      ]
    },
    {
      "cell_type": "code",
      "metadata": {
        "colab": {
          "base_uri": "https://localhost:8080/"
        },
        "id": "aB7FaiucoEZP",
        "outputId": "16ab7b8f-5402-4e4f-a91b-d98dd32b592e"
      },
      "source": [
        "print(\"x_train\", x_train.shape)\n",
        "print(\"y_train\", y_train.shape)\n",
        "print()\n",
        "print(\"x_test\", x_test.shape)\n",
        "print(\"y_test\", y_test.shape)"
      ],
      "execution_count": null,
      "outputs": [
        {
          "output_type": "stream",
          "text": [
            "x_train (495, 200)\n",
            "y_train (495, 9)\n",
            "\n",
            "x_test (124, 200)\n",
            "y_test (124, 9)\n"
          ],
          "name": "stdout"
        }
      ]
    },
    {
      "cell_type": "code",
      "metadata": {
        "colab": {
          "base_uri": "https://localhost:8080/"
        },
        "id": "k-62_hEqoFbz",
        "outputId": "c5dbf251-f5c0-48f5-ca50-6254a97c30dc"
      },
      "source": [
        "import numpy as np\n",
        "\n",
        "embedding_matrix = np.zeros((vocab_size, W2V_SIZE))\n",
        "for word, i in tokenizer.word_index.items():\n",
        "  if word in w2v_model.wv:\n",
        "    embedding_matrix[i] = w2v_model.wv[word]\n",
        "print(embedding_matrix.shape)"
      ],
      "execution_count": null,
      "outputs": [
        {
          "output_type": "stream",
          "text": [
            "(14976, 200)\n"
          ],
          "name": "stdout"
        }
      ]
    },
    {
      "cell_type": "markdown",
      "metadata": {
        "id": "T5YHnSnts2TZ"
      },
      "source": [
        "## LSTM"
      ]
    },
    {
      "cell_type": "code",
      "metadata": {
        "id": "ta6jssNooHfo",
        "colab": {
          "base_uri": "https://localhost:8080/"
        },
        "outputId": "cdf9cafc-6d1c-4602-f300-71dc9ebed0d8"
      },
      "source": [
        "from keras.models import Sequential\n",
        "from keras.layers import Activation, Dense, Dropout, Embedding, Flatten, Conv1D, MaxPooling1D, LSTM\n",
        "\n",
        "model = Sequential()\n",
        "model.add(Embedding(vocab_size, W2V_SIZE, weights=[embedding_matrix], input_length=SEQUENCE_LENGTH, trainable=False))\n",
        "model.add(Dropout(0.5))\n",
        "model.add(LSTM(100, dropout=0.2, recurrent_dropout=0.2))\n",
        "model.add(Dense(9, activation='softmax'))\n",
        "\n",
        "model.summary()"
      ],
      "execution_count": null,
      "outputs": [
        {
          "output_type": "stream",
          "text": [
            "Model: \"sequential_5\"\n",
            "_________________________________________________________________\n",
            "Layer (type)                 Output Shape              Param #   \n",
            "=================================================================\n",
            "embedding_5 (Embedding)      (None, 200, 200)          2995200   \n",
            "_________________________________________________________________\n",
            "dropout_31 (Dropout)         (None, 200, 200)          0         \n",
            "_________________________________________________________________\n",
            "lstm_5 (LSTM)                (None, 100)               120400    \n",
            "_________________________________________________________________\n",
            "dense_107 (Dense)            (None, 9)                 909       \n",
            "=================================================================\n",
            "Total params: 3,116,509\n",
            "Trainable params: 121,309\n",
            "Non-trainable params: 2,995,200\n",
            "_________________________________________________________________\n"
          ],
          "name": "stdout"
        }
      ]
    },
    {
      "cell_type": "code",
      "metadata": {
        "id": "diXP7ld2oRHP"
      },
      "source": [
        "model.compile(loss='categorical_crossentropy',\n",
        "              optimizer=\"adam\",\n",
        "              metrics=['acc'])"
      ],
      "execution_count": null,
      "outputs": []
    },
    {
      "cell_type": "code",
      "metadata": {
        "colab": {
          "base_uri": "https://localhost:8080/"
        },
        "id": "1gygR3unoTCJ",
        "outputId": "0f2781eb-9d60-439d-c765-e4d60c3351c1"
      },
      "source": [
        "%%time\n",
        "import tensorflow as tf\n",
        "\n",
        "EPOCHS = 60\n",
        "BATCH_SIZE = 8\n",
        "\n",
        "lr_schedule = tf.keras.callbacks.LearningRateScheduler(\n",
        "    lambda epoch: 1e-6 * 10**(epoch / 10), verbose=1)\n",
        "\n",
        "history = model.fit(x_train, y_train,\n",
        "                    batch_size=BATCH_SIZE,\n",
        "                    epochs=EPOCHS,\n",
        "                    validation_split=0.1,\n",
        "                    callbacks=[lr_schedule],\n",
        "                    verbose=1)"
      ],
      "execution_count": null,
      "outputs": [
        {
          "output_type": "stream",
          "text": [
            "Epoch 1/60\n",
            "\n",
            "Epoch 00001: LearningRateScheduler reducing learning rate to 1e-06.\n",
            "56/56 [==============================] - 75s 315ms/step - loss: 2.2394 - acc: 0.0746 - val_loss: 2.1918 - val_acc: 0.1800\n",
            "Epoch 2/60\n",
            "\n",
            "Epoch 00002: LearningRateScheduler reducing learning rate to 1.2589254117941672e-06.\n",
            "56/56 [==============================] - 17s 304ms/step - loss: 2.2392 - acc: 0.0921 - val_loss: 2.1900 - val_acc: 0.1800\n",
            "Epoch 3/60\n",
            "\n",
            "Epoch 00003: LearningRateScheduler reducing learning rate to 1.5848931924611134e-06.\n",
            "56/56 [==============================] - 17s 304ms/step - loss: 2.2217 - acc: 0.1003 - val_loss: 2.1877 - val_acc: 0.1800\n",
            "Epoch 4/60\n",
            "\n",
            "Epoch 00004: LearningRateScheduler reducing learning rate to 1.9952623149688796e-06.\n",
            "56/56 [==============================] - 17s 299ms/step - loss: 2.1983 - acc: 0.1066 - val_loss: 2.1848 - val_acc: 0.1800\n",
            "Epoch 5/60\n",
            "\n",
            "Epoch 00005: LearningRateScheduler reducing learning rate to 2.51188643150958e-06.\n",
            "56/56 [==============================] - 17s 303ms/step - loss: 2.2173 - acc: 0.1173 - val_loss: 2.1812 - val_acc: 0.1800\n",
            "Epoch 6/60\n",
            "\n",
            "Epoch 00006: LearningRateScheduler reducing learning rate to 3.162277660168379e-06.\n",
            "56/56 [==============================] - 17s 304ms/step - loss: 2.1987 - acc: 0.1183 - val_loss: 2.1766 - val_acc: 0.1800\n",
            "Epoch 7/60\n",
            "\n",
            "Epoch 00007: LearningRateScheduler reducing learning rate to 3.981071705534972e-06.\n",
            "56/56 [==============================] - 17s 304ms/step - loss: 2.2157 - acc: 0.1299 - val_loss: 2.1710 - val_acc: 0.1800\n",
            "Epoch 8/60\n",
            "\n",
            "Epoch 00008: LearningRateScheduler reducing learning rate to 5.011872336272722e-06.\n",
            "56/56 [==============================] - 17s 305ms/step - loss: 2.1924 - acc: 0.1291 - val_loss: 2.1642 - val_acc: 0.1800\n",
            "Epoch 9/60\n",
            "\n",
            "Epoch 00009: LearningRateScheduler reducing learning rate to 6.309573444801933e-06.\n",
            "56/56 [==============================] - 17s 307ms/step - loss: 2.1896 - acc: 0.1212 - val_loss: 2.1555 - val_acc: 0.1800\n",
            "Epoch 10/60\n",
            "\n",
            "Epoch 00010: LearningRateScheduler reducing learning rate to 7.943282347242815e-06.\n",
            "56/56 [==============================] - 17s 304ms/step - loss: 2.1910 - acc: 0.1642 - val_loss: 2.1449 - val_acc: 0.1800\n",
            "Epoch 11/60\n",
            "\n",
            "Epoch 00011: LearningRateScheduler reducing learning rate to 9.999999999999999e-06.\n",
            "56/56 [==============================] - 17s 308ms/step - loss: 2.1801 - acc: 0.1550 - val_loss: 2.1312 - val_acc: 0.2000\n",
            "Epoch 12/60\n",
            "\n",
            "Epoch 00012: LearningRateScheduler reducing learning rate to 1.2589254117941675e-05.\n",
            "56/56 [==============================] - 17s 308ms/step - loss: 2.1679 - acc: 0.1524 - val_loss: 2.1151 - val_acc: 0.2000\n",
            "Epoch 13/60\n",
            "\n",
            "Epoch 00013: LearningRateScheduler reducing learning rate to 1.584893192461113e-05.\n",
            "56/56 [==============================] - 17s 303ms/step - loss: 2.1837 - acc: 0.1683 - val_loss: 2.0947 - val_acc: 0.2000\n",
            "Epoch 14/60\n",
            "\n",
            "Epoch 00014: LearningRateScheduler reducing learning rate to 1.9952623149688796e-05.\n",
            "56/56 [==============================] - 17s 305ms/step - loss: 2.1606 - acc: 0.1822 - val_loss: 2.0695 - val_acc: 0.3000\n",
            "Epoch 15/60\n",
            "\n",
            "Epoch 00015: LearningRateScheduler reducing learning rate to 2.5118864315095795e-05.\n",
            "56/56 [==============================] - 17s 310ms/step - loss: 2.1347 - acc: 0.1848 - val_loss: 2.0402 - val_acc: 0.3400\n",
            "Epoch 16/60\n",
            "\n",
            "Epoch 00016: LearningRateScheduler reducing learning rate to 3.162277660168379e-05.\n",
            "56/56 [==============================] - 17s 311ms/step - loss: 2.1241 - acc: 0.2125 - val_loss: 2.0025 - val_acc: 0.3400\n",
            "Epoch 17/60\n",
            "\n",
            "Epoch 00017: LearningRateScheduler reducing learning rate to 3.9810717055349735e-05.\n",
            "56/56 [==============================] - 17s 307ms/step - loss: 2.0776 - acc: 0.2559 - val_loss: 1.9569 - val_acc: 0.4200\n",
            "Epoch 18/60\n",
            "\n",
            "Epoch 00018: LearningRateScheduler reducing learning rate to 5.0118723362727224e-05.\n",
            "56/56 [==============================] - 17s 308ms/step - loss: 2.0408 - acc: 0.2642 - val_loss: 1.9028 - val_acc: 0.4400\n",
            "Epoch 19/60\n",
            "\n",
            "Epoch 00019: LearningRateScheduler reducing learning rate to 6.309573444801932e-05.\n",
            "56/56 [==============================] - 17s 305ms/step - loss: 1.9815 - acc: 0.3641 - val_loss: 1.8345 - val_acc: 0.4800\n",
            "Epoch 20/60\n",
            "\n",
            "Epoch 00020: LearningRateScheduler reducing learning rate to 7.943282347242814e-05.\n",
            "56/56 [==============================] - 17s 308ms/step - loss: 1.9301 - acc: 0.4130 - val_loss: 1.7544 - val_acc: 0.5000\n",
            "Epoch 21/60\n",
            "\n",
            "Epoch 00021: LearningRateScheduler reducing learning rate to 9.999999999999999e-05.\n",
            "56/56 [==============================] - 17s 310ms/step - loss: 1.8423 - acc: 0.4226 - val_loss: 1.6580 - val_acc: 0.5200\n",
            "Epoch 22/60\n",
            "\n",
            "Epoch 00022: LearningRateScheduler reducing learning rate to 0.00012589254117941674.\n",
            "56/56 [==============================] - 17s 306ms/step - loss: 1.7410 - acc: 0.4588 - val_loss: 1.5422 - val_acc: 0.5200\n",
            "Epoch 23/60\n",
            "\n",
            "Epoch 00023: LearningRateScheduler reducing learning rate to 0.00015848931924611142.\n",
            "56/56 [==============================] - 17s 312ms/step - loss: 1.6606 - acc: 0.4449 - val_loss: 1.4461 - val_acc: 0.5000\n",
            "Epoch 24/60\n",
            "\n",
            "Epoch 00024: LearningRateScheduler reducing learning rate to 0.00019952623149688788.\n",
            "56/56 [==============================] - 17s 305ms/step - loss: 1.4743 - acc: 0.5003 - val_loss: 1.2522 - val_acc: 0.6600\n",
            "Epoch 25/60\n",
            "\n",
            "Epoch 00025: LearningRateScheduler reducing learning rate to 0.00025118864315095795.\n",
            "56/56 [==============================] - 17s 308ms/step - loss: 1.3353 - acc: 0.5978 - val_loss: 1.2753 - val_acc: 0.6000\n",
            "Epoch 26/60\n",
            "\n",
            "Epoch 00026: LearningRateScheduler reducing learning rate to 0.00031622776601683794.\n",
            "56/56 [==============================] - 17s 307ms/step - loss: 1.1301 - acc: 0.6602 - val_loss: 1.0819 - val_acc: 0.6800\n",
            "Epoch 27/60\n",
            "\n",
            "Epoch 00027: LearningRateScheduler reducing learning rate to 0.0003981071705534973.\n",
            "56/56 [==============================] - 17s 308ms/step - loss: 1.1084 - acc: 0.6504 - val_loss: 1.1562 - val_acc: 0.6400\n",
            "Epoch 28/60\n",
            "\n",
            "Epoch 00028: LearningRateScheduler reducing learning rate to 0.0005011872336272724.\n",
            "56/56 [==============================] - 17s 311ms/step - loss: 0.9699 - acc: 0.6758 - val_loss: 1.3518 - val_acc: 0.5600\n",
            "Epoch 29/60\n",
            "\n",
            "Epoch 00029: LearningRateScheduler reducing learning rate to 0.000630957344480193.\n",
            "56/56 [==============================] - 17s 308ms/step - loss: 0.9041 - acc: 0.7227 - val_loss: 0.9556 - val_acc: 0.7200\n",
            "Epoch 30/60\n",
            "\n",
            "Epoch 00030: LearningRateScheduler reducing learning rate to 0.0007943282347242812.\n",
            "56/56 [==============================] - 17s 310ms/step - loss: 0.8052 - acc: 0.7296 - val_loss: 1.0191 - val_acc: 0.7000\n",
            "Epoch 31/60\n",
            "\n",
            "Epoch 00031: LearningRateScheduler reducing learning rate to 0.001.\n",
            "56/56 [==============================] - 17s 308ms/step - loss: 0.8122 - acc: 0.7330 - val_loss: 1.1127 - val_acc: 0.7000\n",
            "Epoch 32/60\n",
            "\n",
            "Epoch 00032: LearningRateScheduler reducing learning rate to 0.0012589254117941675.\n",
            "56/56 [==============================] - 17s 310ms/step - loss: 0.7464 - acc: 0.7564 - val_loss: 1.0779 - val_acc: 0.6600\n",
            "Epoch 33/60\n",
            "\n",
            "Epoch 00033: LearningRateScheduler reducing learning rate to 0.0015848931924611139.\n",
            "56/56 [==============================] - 17s 311ms/step - loss: 0.9075 - acc: 0.6911 - val_loss: 1.0592 - val_acc: 0.6400\n",
            "Epoch 34/60\n",
            "\n",
            "Epoch 00034: LearningRateScheduler reducing learning rate to 0.001995262314968879.\n",
            "56/56 [==============================] - 17s 310ms/step - loss: 0.7099 - acc: 0.7504 - val_loss: 1.2384 - val_acc: 0.6800\n",
            "Epoch 35/60\n",
            "\n",
            "Epoch 00035: LearningRateScheduler reducing learning rate to 0.00251188643150958.\n",
            "56/56 [==============================] - 17s 307ms/step - loss: 0.7883 - acc: 0.7123 - val_loss: 1.2983 - val_acc: 0.6200\n",
            "Epoch 36/60\n",
            "\n",
            "Epoch 00036: LearningRateScheduler reducing learning rate to 0.0031622776601683794.\n",
            "56/56 [==============================] - 17s 311ms/step - loss: 0.6736 - acc: 0.7841 - val_loss: 1.3616 - val_acc: 0.5800\n",
            "Epoch 37/60\n",
            "\n",
            "Epoch 00037: LearningRateScheduler reducing learning rate to 0.003981071705534973.\n",
            "56/56 [==============================] - 17s 309ms/step - loss: 0.7020 - acc: 0.7853 - val_loss: 1.1170 - val_acc: 0.7000\n",
            "Epoch 38/60\n",
            "\n",
            "Epoch 00038: LearningRateScheduler reducing learning rate to 0.005011872336272725.\n",
            "56/56 [==============================] - 17s 310ms/step - loss: 0.7352 - acc: 0.7771 - val_loss: 1.1700 - val_acc: 0.6800\n",
            "Epoch 39/60\n",
            "\n",
            "Epoch 00039: LearningRateScheduler reducing learning rate to 0.00630957344480193.\n",
            "56/56 [==============================] - 17s 310ms/step - loss: 0.7658 - acc: 0.7473 - val_loss: 1.3370 - val_acc: 0.6200\n",
            "Epoch 40/60\n",
            "\n",
            "Epoch 00040: LearningRateScheduler reducing learning rate to 0.007943282347242814.\n",
            "56/56 [==============================] - 17s 311ms/step - loss: 0.6117 - acc: 0.8183 - val_loss: 1.2124 - val_acc: 0.7000\n",
            "Epoch 41/60\n",
            "\n",
            "Epoch 00041: LearningRateScheduler reducing learning rate to 0.01.\n",
            "56/56 [==============================] - 17s 308ms/step - loss: 0.6888 - acc: 0.7706 - val_loss: 1.5882 - val_acc: 0.5200\n",
            "Epoch 42/60\n",
            "\n",
            "Epoch 00042: LearningRateScheduler reducing learning rate to 0.012589254117941661.\n",
            "56/56 [==============================] - 17s 309ms/step - loss: 0.7617 - acc: 0.7056 - val_loss: 1.4680 - val_acc: 0.6200\n",
            "Epoch 43/60\n",
            "\n",
            "Epoch 00043: LearningRateScheduler reducing learning rate to 0.01584893192461114.\n",
            "56/56 [==============================] - 17s 306ms/step - loss: 0.6497 - acc: 0.7730 - val_loss: 1.9189 - val_acc: 0.4600\n",
            "Epoch 44/60\n",
            "\n",
            "Epoch 00044: LearningRateScheduler reducing learning rate to 0.01995262314968879.\n",
            "56/56 [==============================] - 17s 305ms/step - loss: 1.0045 - acc: 0.7059 - val_loss: 1.5816 - val_acc: 0.5600\n",
            "Epoch 45/60\n",
            "\n",
            "Epoch 00045: LearningRateScheduler reducing learning rate to 0.025118864315095822.\n",
            "56/56 [==============================] - 17s 307ms/step - loss: 1.0292 - acc: 0.6458 - val_loss: 1.6082 - val_acc: 0.5600\n",
            "Epoch 46/60\n",
            "\n",
            "Epoch 00046: LearningRateScheduler reducing learning rate to 0.03162277660168379.\n",
            "56/56 [==============================] - 17s 303ms/step - loss: 1.1723 - acc: 0.6112 - val_loss: 2.1566 - val_acc: 0.3000\n",
            "Epoch 47/60\n",
            "\n",
            "Epoch 00047: LearningRateScheduler reducing learning rate to 0.039810717055349686.\n",
            "56/56 [==============================] - 17s 304ms/step - loss: 1.8105 - acc: 0.4445 - val_loss: 3.2264 - val_acc: 0.2000\n",
            "Epoch 48/60\n",
            "\n",
            "Epoch 00048: LearningRateScheduler reducing learning rate to 0.05011872336272725.\n",
            "56/56 [==============================] - 17s 304ms/step - loss: nan - acc: 0.2282 - val_loss: nan - val_acc: 0.1800\n",
            "Epoch 49/60\n",
            "\n",
            "Epoch 00049: LearningRateScheduler reducing learning rate to 0.0630957344480193.\n",
            "56/56 [==============================] - 17s 308ms/step - loss: nan - acc: 0.1365 - val_loss: nan - val_acc: 0.1800\n",
            "Epoch 50/60\n",
            "\n",
            "Epoch 00050: LearningRateScheduler reducing learning rate to 0.07943282347242821.\n",
            "56/56 [==============================] - 17s 304ms/step - loss: nan - acc: 0.1697 - val_loss: nan - val_acc: 0.1800\n",
            "Epoch 51/60\n",
            "\n",
            "Epoch 00051: LearningRateScheduler reducing learning rate to 0.09999999999999999.\n",
            "56/56 [==============================] - 17s 305ms/step - loss: nan - acc: 0.1486 - val_loss: nan - val_acc: 0.1800\n",
            "Epoch 52/60\n",
            "\n",
            "Epoch 00052: LearningRateScheduler reducing learning rate to 0.12589254117941662.\n",
            "56/56 [==============================] - 17s 305ms/step - loss: nan - acc: 0.1535 - val_loss: nan - val_acc: 0.1800\n",
            "Epoch 53/60\n",
            "\n",
            "Epoch 00053: LearningRateScheduler reducing learning rate to 0.1584893192461114.\n",
            "56/56 [==============================] - 17s 306ms/step - loss: nan - acc: 0.1149 - val_loss: nan - val_acc: 0.1800\n",
            "Epoch 54/60\n",
            "\n",
            "Epoch 00054: LearningRateScheduler reducing learning rate to 0.1995262314968879.\n",
            "56/56 [==============================] - 17s 308ms/step - loss: nan - acc: 0.1482 - val_loss: nan - val_acc: 0.1800\n",
            "Epoch 55/60\n",
            "\n",
            "Epoch 00055: LearningRateScheduler reducing learning rate to 0.2511886431509582.\n",
            "56/56 [==============================] - 17s 306ms/step - loss: nan - acc: 0.1395 - val_loss: nan - val_acc: 0.1800\n",
            "Epoch 56/60\n",
            "\n",
            "Epoch 00056: LearningRateScheduler reducing learning rate to 0.3162277660168379.\n",
            "56/56 [==============================] - 17s 310ms/step - loss: nan - acc: 0.1401 - val_loss: nan - val_acc: 0.1800\n",
            "Epoch 57/60\n",
            "\n",
            "Epoch 00057: LearningRateScheduler reducing learning rate to 0.3981071705534969.\n",
            "56/56 [==============================] - 17s 308ms/step - loss: nan - acc: 0.1475 - val_loss: nan - val_acc: 0.1800\n",
            "Epoch 58/60\n",
            "\n",
            "Epoch 00058: LearningRateScheduler reducing learning rate to 0.5011872336272725.\n",
            "56/56 [==============================] - 17s 308ms/step - loss: nan - acc: 0.1394 - val_loss: nan - val_acc: 0.1800\n",
            "Epoch 59/60\n",
            "\n",
            "Epoch 00059: LearningRateScheduler reducing learning rate to 0.6309573444801929.\n",
            "56/56 [==============================] - 17s 302ms/step - loss: nan - acc: 0.1445 - val_loss: nan - val_acc: 0.1800\n",
            "Epoch 60/60\n",
            "\n",
            "Epoch 00060: LearningRateScheduler reducing learning rate to 0.7943282347242822.\n",
            "56/56 [==============================] - 17s 305ms/step - loss: nan - acc: 0.1677 - val_loss: nan - val_acc: 0.1800\n",
            "CPU times: user 30min 42s, sys: 1min 51s, total: 32min 33s\n",
            "Wall time: 18min 9s\n"
          ],
          "name": "stdout"
        }
      ]
    },
    {
      "cell_type": "code",
      "metadata": {
        "colab": {
          "base_uri": "https://localhost:8080/",
          "height": 304
        },
        "id": "VRSLD3mwrZ6r",
        "outputId": "aa3dd800-0f64-4675-e38b-8fcc811fe0cd"
      },
      "source": [
        "import matplotlib.pyplot as plt\n",
        "\n",
        "plt.xlabel('learning rate')\n",
        "plt.ylabel('val_loss')\n",
        "plt.semilogx(history.history[\"lr\"], history.history[\"val_loss\"])\n",
        "plt.axis([1e-6, 1e0, 0, 2])"
      ],
      "execution_count": null,
      "outputs": [
        {
          "output_type": "execute_result",
          "data": {
            "text/plain": [
              "(1e-06, 1.0, 0.0, 2.0)"
            ]
          },
          "metadata": {
            "tags": []
          },
          "execution_count": 183
        },
        {
          "output_type": "display_data",
          "data": {
            "image/png": "[encoded data removed]",
            "text/plain": [
              "<Figure size 432x288 with 1 Axes>"
            ]
          },
          "metadata": {
            "tags": [],
            "needs_background": "light"
          }
        }
      ]
    },
    {
      "cell_type": "code",
      "metadata": {
        "colab": {
          "base_uri": "https://localhost:8080/"
        },
        "id": "uRID4Wh7sPrT",
        "outputId": "c6652386-a471-4ebb-b56f-031c9a119e22"
      },
      "source": [
        "model.compile(loss='binary_crossentropy', optimizer=tf.keras.optimizers.Adam(lr=6*1e-4), metrics=['accuracy'])\n",
        "\n",
        "history = model.fit(x_train, y_train,validation_data=(x_test,y_test), batch_size=8, epochs=10,verbose=1)"
      ],
      "execution_count": null,
      "outputs": [
        {
          "output_type": "stream",
          "text": [
            "Epoch 1/10\n",
            "62/62 [==============================] - 24s 330ms/step - loss: 0.5856 - accuracy: 0.1178 - val_loss: 0.3098 - val_accuracy: 0.3145\n",
            "Epoch 2/10\n",
            "62/62 [==============================] - 19s 313ms/step - loss: 0.3116 - accuracy: 0.3321 - val_loss: 0.2542 - val_accuracy: 0.4839\n",
            "Epoch 3/10\n",
            "62/62 [==============================] - 20s 317ms/step - loss: 0.2644 - accuracy: 0.4877 - val_loss: 0.2392 - val_accuracy: 0.5000\n",
            "Epoch 4/10\n",
            "62/62 [==============================] - 19s 309ms/step - loss: 0.2334 - accuracy: 0.5801 - val_loss: 0.2008 - val_accuracy: 0.6694\n",
            "Epoch 5/10\n",
            "62/62 [==============================] - 19s 312ms/step - loss: 0.2114 - accuracy: 0.6386 - val_loss: 0.1831 - val_accuracy: 0.7016\n",
            "Epoch 6/10\n",
            "62/62 [==============================] - 20s 316ms/step - loss: 0.1906 - accuracy: 0.6658 - val_loss: 0.1955 - val_accuracy: 0.6290\n",
            "Epoch 7/10\n",
            "62/62 [==============================] - 20s 317ms/step - loss: 0.2005 - accuracy: 0.6794 - val_loss: 0.1728 - val_accuracy: 0.7258\n",
            "Epoch 8/10\n",
            "62/62 [==============================] - 20s 317ms/step - loss: 0.1916 - accuracy: 0.6849 - val_loss: 0.1877 - val_accuracy: 0.6774\n",
            "Epoch 9/10\n",
            "62/62 [==============================] - 19s 313ms/step - loss: 0.1845 - accuracy: 0.6984 - val_loss: 0.1665 - val_accuracy: 0.7097\n",
            "Epoch 10/10\n",
            "62/62 [==============================] - 20s 315ms/step - loss: 0.1564 - accuracy: 0.7424 - val_loss: 0.1714 - val_accuracy: 0.6855\n"
          ],
          "name": "stdout"
        }
      ]
    },
    {
      "cell_type": "code",
      "metadata": {
        "colab": {
          "base_uri": "https://localhost:8080/"
        },
        "id": "czjiM7P9oU1d",
        "outputId": "3d1af2a5-3155-48ec-8c9a-b037000602f0"
      },
      "source": [
        "%%time\n",
        "score = model.evaluate(x_test, y_test, batch_size=BATCH_SIZE)\n",
        "print()\n",
        "print(\"ACCURACY:\",score[1])\n",
        "print(\"LOSS:\",score[0])"
      ],
      "execution_count": null,
      "outputs": [
        {
          "output_type": "stream",
          "text": [
            "16/16 [==============================] - 1s 36ms/step - loss: 0.1714 - accuracy: 0.6855\n",
            "\n",
            "ACCURACY: 0.6854838728904724\n",
            "LOSS: 0.17135639488697052\n",
            "CPU times: user 1.08 s, sys: 19.6 ms, total: 1.1 s\n",
            "Wall time: 637 ms\n"
          ],
          "name": "stdout"
        }
      ]
    }
  ]
}