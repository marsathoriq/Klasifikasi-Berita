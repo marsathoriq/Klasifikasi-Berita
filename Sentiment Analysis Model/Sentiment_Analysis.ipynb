{
  "nbformat": 4,
  "nbformat_minor": 0,
  "metadata": {
    "colab": {
      "name": "Salinan dari Sentiment Analysis.ipynb",
      "provenance": [],
      "collapsed_sections": [],
      "toc_visible": true
    },
    "kernelspec": {
      "display_name": "Python 3",
      "name": "python3"
    },
    "widgets": {
      "application/vnd.jupyter.widget-state+json": {
        "c2f093fa351b4b92838bb8f2d43e23a0": {
          "model_module": "@jupyter-widgets/controls",
          "model_name": "HBoxModel",
          "state": {
            "_view_name": "HBoxView",
            "_dom_classes": [],
            "_model_name": "HBoxModel",
            "_view_module": "@jupyter-widgets/controls",
            "_model_module_version": "1.5.0",
            "_view_count": null,
            "_view_module_version": "1.5.0",
            "box_style": "",
            "layout": "IPY_MODEL_ea18c90d8c0f4a21b5f47fa5be78b595",
            "_model_module": "@jupyter-widgets/controls",
            "children": [
              "IPY_MODEL_e4b4d6764a3b47cd86f9e1191879da17",
              "IPY_MODEL_71a82559f31b4bac87bed93c9fb3e592"
            ]
          }
        },
        "ea18c90d8c0f4a21b5f47fa5be78b595": {
          "model_module": "@jupyter-widgets/base",
          "model_name": "LayoutModel",
          "state": {
            "_view_name": "LayoutView",
            "grid_template_rows": null,
            "right": null,
            "justify_content": null,
            "_view_module": "@jupyter-widgets/base",
            "overflow": null,
            "_model_module_version": "1.2.0",
            "_view_count": null,
            "flex_flow": null,
            "width": null,
            "min_width": null,
            "border": null,
            "align_items": null,
            "bottom": null,
            "_model_module": "@jupyter-widgets/base",
            "top": null,
            "grid_column": null,
            "overflow_y": null,
            "overflow_x": null,
            "grid_auto_flow": null,
            "grid_area": null,
            "grid_template_columns": null,
            "flex": null,
            "_model_name": "LayoutModel",
            "justify_items": null,
            "grid_row": null,
            "max_height": null,
            "align_content": null,
            "visibility": null,
            "align_self": null,
            "height": null,
            "min_height": null,
            "padding": null,
            "grid_auto_rows": null,
            "grid_gap": null,
            "max_width": null,
            "order": null,
            "_view_module_version": "1.2.0",
            "grid_template_areas": null,
            "object_position": null,
            "object_fit": null,
            "grid_auto_columns": null,
            "margin": null,
            "display": null,
            "left": null
          }
        },
        "e4b4d6764a3b47cd86f9e1191879da17": {
          "model_module": "@jupyter-widgets/controls",
          "model_name": "FloatProgressModel",
          "state": {
            "_view_name": "ProgressView",
            "style": "IPY_MODEL_05c5360aa81f4843b111dc6ed19c6d9d",
            "_dom_classes": [],
            "description": "",
            "_model_name": "FloatProgressModel",
            "bar_style": "success",
            "max": 1,
            "_view_module": "@jupyter-widgets/controls",
            "_model_module_version": "1.5.0",
            "value": 0,
            "_view_count": null,
            "_view_module_version": "1.5.0",
            "orientation": "horizontal",
            "min": 0,
            "description_tooltip": null,
            "_model_module": "@jupyter-widgets/controls",
            "layout": "IPY_MODEL_fb6006635468467d99adde2a1630ab7f"
          }
        },
        "71a82559f31b4bac87bed93c9fb3e592": {
          "model_module": "@jupyter-widgets/controls",
          "model_name": "HTMLModel",
          "state": {
            "_view_name": "HTMLView",
            "style": "IPY_MODEL_9996e073cbcb4bb0b285ab3db45fa2eb",
            "_dom_classes": [],
            "description": "",
            "_model_name": "HTMLModel",
            "placeholder": "​",
            "_view_module": "@jupyter-widgets/controls",
            "_model_module_version": "1.5.0",
            "value": " 0/? [00:01&lt;?, ?it/s]",
            "_view_count": null,
            "_view_module_version": "1.5.0",
            "description_tooltip": null,
            "_model_module": "@jupyter-widgets/controls",
            "layout": "IPY_MODEL_a504c1b0efb440cba7d9e7308894cf5c"
          }
        },
        "05c5360aa81f4843b111dc6ed19c6d9d": {
          "model_module": "@jupyter-widgets/controls",
          "model_name": "ProgressStyleModel",
          "state": {
            "_view_name": "StyleView",
            "_model_name": "ProgressStyleModel",
            "description_width": "initial",
            "_view_module": "@jupyter-widgets/base",
            "_model_module_version": "1.5.0",
            "_view_count": null,
            "_view_module_version": "1.2.0",
            "bar_color": null,
            "_model_module": "@jupyter-widgets/controls"
          }
        },
        "fb6006635468467d99adde2a1630ab7f": {
          "model_module": "@jupyter-widgets/base",
          "model_name": "LayoutModel",
          "state": {
            "_view_name": "LayoutView",
            "grid_template_rows": null,
            "right": null,
            "justify_content": null,
            "_view_module": "@jupyter-widgets/base",
            "overflow": null,
            "_model_module_version": "1.2.0",
            "_view_count": null,
            "flex_flow": null,
            "width": null,
            "min_width": null,
            "border": null,
            "align_items": null,
            "bottom": null,
            "_model_module": "@jupyter-widgets/base",
            "top": null,
            "grid_column": null,
            "overflow_y": null,
            "overflow_x": null,
            "grid_auto_flow": null,
            "grid_area": null,
            "grid_template_columns": null,
            "flex": null,
            "_model_name": "LayoutModel",
            "justify_items": null,
            "grid_row": null,
            "max_height": null,
            "align_content": null,
            "visibility": null,
            "align_self": null,
            "height": null,
            "min_height": null,
            "padding": null,
            "grid_auto_rows": null,
            "grid_gap": null,
            "max_width": null,
            "order": null,
            "_view_module_version": "1.2.0",
            "grid_template_areas": null,
            "object_position": null,
            "object_fit": null,
            "grid_auto_columns": null,
            "margin": null,
            "display": null,
            "left": null
          }
        },
        "9996e073cbcb4bb0b285ab3db45fa2eb": {
          "model_module": "@jupyter-widgets/controls",
          "model_name": "DescriptionStyleModel",
          "state": {
            "_view_name": "StyleView",
            "_model_name": "DescriptionStyleModel",
            "description_width": "",
            "_view_module": "@jupyter-widgets/base",
            "_model_module_version": "1.5.0",
            "_view_count": null,
            "_view_module_version": "1.2.0",
            "_model_module": "@jupyter-widgets/controls"
          }
        },
        "a504c1b0efb440cba7d9e7308894cf5c": {
          "model_module": "@jupyter-widgets/base",
          "model_name": "LayoutModel",
          "state": {
            "_view_name": "LayoutView",
            "grid_template_rows": null,
            "right": null,
            "justify_content": null,
            "_view_module": "@jupyter-widgets/base",
            "overflow": null,
            "_model_module_version": "1.2.0",
            "_view_count": null,
            "flex_flow": null,
            "width": null,
            "min_width": null,
            "border": null,
            "align_items": null,
            "bottom": null,
            "_model_module": "@jupyter-widgets/base",
            "top": null,
            "grid_column": null,
            "overflow_y": null,
            "overflow_x": null,
            "grid_auto_flow": null,
            "grid_area": null,
            "grid_template_columns": null,
            "flex": null,
            "_model_name": "LayoutModel",
            "justify_items": null,
            "grid_row": null,
            "max_height": null,
            "align_content": null,
            "visibility": null,
            "align_self": null,
            "height": null,
            "min_height": null,
            "padding": null,
            "grid_auto_rows": null,
            "grid_gap": null,
            "max_width": null,
            "order": null,
            "_view_module_version": "1.2.0",
            "grid_template_areas": null,
            "object_position": null,
            "object_fit": null,
            "grid_auto_columns": null,
            "margin": null,
            "display": null,
            "left": null
          }
        }
      }
    }
  },
  "cells": [
    {
      "cell_type": "markdown",
      "metadata": {
        "id": "2k5UN1UekGNQ"
      },
      "source": [
        "## Import library"
      ]
    },
    {
      "cell_type": "code",
      "metadata": {
        "id": "ZNgXaI95FIN2",
        "colab": {
          "base_uri": "https://localhost:8080/",
          "height": 133,
          "referenced_widgets": [
            "c2f093fa351b4b92838bb8f2d43e23a0",
            "ea18c90d8c0f4a21b5f47fa5be78b595",
            "e4b4d6764a3b47cd86f9e1191879da17",
            "71a82559f31b4bac87bed93c9fb3e592",
            "05c5360aa81f4843b111dc6ed19c6d9d",
            "fb6006635468467d99adde2a1630ab7f",
            "9996e073cbcb4bb0b285ab3db45fa2eb",
            "a504c1b0efb440cba7d9e7308894cf5c"
          ]
        },
        "outputId": "1ceec93d-74c5-4d37-ee00-a9727ce9d61b"
      },
      "source": [
        "import joblib\n",
        "import re\n",
        "!pip install sklearn\n",
        "from sklearn.model_selection import StratifiedKFold\n",
        "\n",
        "from sklearn.feature_extraction.text import TfidfVectorizer,CountVectorizer\n",
        "import scipy.sparse\n",
        "\n",
        "import bs4 as bs  \n",
        "import re  \n",
        "from sklearn.metrics import classification_report, make_scorer\n",
        "\n",
        "from sklearn.metrics import f1_score,balanced_accuracy_score,accuracy_score\n",
        "\n",
        "import warnings\n",
        "warnings.filterwarnings(\"ignore\")\n",
        "\n",
        "import itertools\n",
        "from tqdm import tqdm, tqdm_notebook\n",
        "tqdm_notebook().pandas()\n",
        "from sklearn.base import clone\n",
        "import time"
      ],
      "execution_count": 30,
      "outputs": [
        {
          "output_type": "stream",
          "text": [
            "Requirement already satisfied: sklearn in /usr/local/lib/python3.7/dist-packages (0.0)\n",
            "Requirement already satisfied: scikit-learn in /usr/local/lib/python3.7/dist-packages (from sklearn) (0.22.2.post1)\n",
            "Requirement already satisfied: numpy>=1.11.0 in /usr/local/lib/python3.7/dist-packages (from scikit-learn->sklearn) (1.19.5)\n",
            "Requirement already satisfied: joblib>=0.11 in /usr/local/lib/python3.7/dist-packages (from scikit-learn->sklearn) (1.0.1)\n",
            "Requirement already satisfied: scipy>=0.17.0 in /usr/local/lib/python3.7/dist-packages (from scikit-learn->sklearn) (1.4.1)\n"
          ],
          "name": "stdout"
        },
        {
          "output_type": "display_data",
          "data": {
            "application/vnd.jupyter.widget-view+json": {
              "model_id": "c2f093fa351b4b92838bb8f2d43e23a0",
              "version_minor": 0,
              "version_major": 2
            },
            "text/plain": [
              "HBox(children=(FloatProgress(value=1.0, bar_style='info', max=1.0), HTML(value='')))"
            ]
          },
          "metadata": {
            "tags": []
          }
        }
      ]
    },
    {
      "cell_type": "code",
      "metadata": {
        "id": "k9WwtxQg_jiU"
      },
      "source": [
        "import pandas as pd\n",
        "import numpy as np  \n",
        "import random  \n",
        "import string\n",
        "import unicodedata\n",
        "import matplotlib.pyplot as plt"
      ],
      "execution_count": null,
      "outputs": []
    },
    {
      "cell_type": "code",
      "metadata": {
        "colab": {
          "base_uri": "https://localhost:8080/"
        },
        "id": "V9Y1c2EqDt09",
        "outputId": "bcb8b22f-7f1f-4b13-eea7-f498be88d72b"
      },
      "source": [
        "import tensorflow as tf\n",
        "from keras.layers import Input, Dense, Embedding, Conv2D, MaxPooling2D, Dropout,LSTM, Activation,Bidirectional, GlobalMaxPool1D\n",
        "from keras.layers.core import Reshape, Flatten\n",
        "from keras.models import Model"
      ],
      "execution_count": null,
      "outputs": [
        {
          "output_type": "stream",
          "text": [
            "\n"
          ],
          "name": "stdout"
        }
      ]
    },
    {
      "cell_type": "markdown",
      "metadata": {
        "id": "iO3JfZGpqcdE"
      },
      "source": [
        "# Sentiment"
      ]
    },
    {
      "cell_type": "markdown",
      "metadata": {
        "id": "NNZ-J19Ms0l0"
      },
      "source": [
        "## Cleaning"
      ]
    },
    {
      "cell_type": "code",
      "metadata": {
        "id": "_0DEpEA_WUY3"
      },
      "source": [
        "data = pd.read_excel('../Data/data_baru.xlsx')\n",
        "stop_words = open(\"../Data/stopword.txt\", \"r\").read().split()\n",
        "dic = pd.read_csv('../Data/normalize_word.csv')"
      ],
      "execution_count": 15,
      "outputs": []
    },
    {
      "cell_type": "code",
      "metadata": {
        "id": "CXFxVNcYo8zE"
      },
      "source": [
        "def normalize(text):\n",
        "    text = text.split()\n",
        "    for val in dic.itertuples(index=False):\n",
        "        text = [w.replace(val.slang, val.formal) if w == val.slang else w for w in text]\n",
        "    return \" \".join(text)"
      ],
      "execution_count": 16,
      "outputs": []
    },
    {
      "cell_type": "code",
      "metadata": {
        "id": "2EvC0GR3aIjJ"
      },
      "source": [
        "# bersihkan teks\n",
        "def clean_text(text,stopwords):\n",
        "    '''Make text lowercase, remove text in square brackets, remove punctuation and remove words containing numbers.'''\n",
        "    text = str(text)\n",
        "    text = text.lower()\n",
        "    text = re.sub('\\[.*?\\]', '', text)\n",
        "    text = re.sub('[%s]' % re.escape(string.punctuation), '', text)\n",
        "    text = re.sub('\\w*\\d\\w*', '', text)\n",
        "    text = re.sub('[‘’“”…]', '', text)\n",
        "    text = re.sub('\\n', ' ', text)\n",
        "    text = re.sub('\\r', ' ', text)\n",
        "    text = ' '.join([word for word in text.split() if word.lower() not in stopwords])\n",
        "    return text\n",
        "data['content'] = data['content'].apply(clean_text,stopwords=stop_words)"
      ],
      "execution_count": 17,
      "outputs": []
    },
    {
      "cell_type": "code",
      "metadata": {
        "id": "lt-22r20sV0h",
        "colab": {
          "base_uri": "https://localhost:8080/"
        },
        "outputId": "81f1fa9c-17b4-4b88-8b70-a88fb7b17796"
      },
      "source": [
        "%%time\n",
        "# df.apply(some_func, var1='DOG', axis=1)\n",
        "data['content'] = data['content'].apply(clean_text,stopwords=stop_words)\n",
        "# data['content'] = data['content'].apply(normalize)"
      ],
      "execution_count": 18,
      "outputs": [
        {
          "output_type": "stream",
          "text": [
            "CPU times: user 1.76 s, sys: 5 ms, total: 1.77 s\n",
            "Wall time: 1.77 s\n"
          ],
          "name": "stdout"
        }
      ]
    },
    {
      "cell_type": "code",
      "metadata": {
        "id": "wBnJhn8gjdaD"
      },
      "source": [
        "def checkLen(data):\n",
        "  return len(data.split())\n",
        "data['Len'] = data['content'].apply(checkLen)"
      ],
      "execution_count": 19,
      "outputs": []
    },
    {
      "cell_type": "code",
      "metadata": {
        "colab": {
          "base_uri": "https://localhost:8080/"
        },
        "id": "hvrltX0ikxUH",
        "outputId": "10d74fb1-a54f-4610-94b5-8637e7267b6d"
      },
      "source": [
        "len(data)"
      ],
      "execution_count": 20,
      "outputs": [
        {
          "output_type": "execute_result",
          "data": {
            "text/plain": [
              "625"
            ]
          },
          "metadata": {
            "tags": []
          },
          "execution_count": 20
        }
      ]
    },
    {
      "cell_type": "code",
      "metadata": {
        "id": "4ux7vWNwjdaE"
      },
      "source": [
        "data = data[data['Len'] > 10].reset_index(drop=True)"
      ],
      "execution_count": 21,
      "outputs": []
    },
    {
      "cell_type": "code",
      "metadata": {
        "id": "eAGUSaSEpvbl",
        "colab": {
          "base_uri": "https://localhost:8080/"
        },
        "outputId": "2374c164-3a29-477a-b326-817dfb35245d"
      },
      "source": [
        "len(data)"
      ],
      "execution_count": 22,
      "outputs": [
        {
          "output_type": "execute_result",
          "data": {
            "text/plain": [
              "619"
            ]
          },
          "metadata": {
            "tags": []
          },
          "execution_count": 22
        }
      ]
    },
    {
      "cell_type": "code",
      "metadata": {
        "id": "wklAbnxGd3Vu"
      },
      "source": [
        "data = data[data['Label Sentimen Analysis'].isin([1.0,-1.0])]"
      ],
      "execution_count": 23,
      "outputs": []
    },
    {
      "cell_type": "code",
      "metadata": {
        "colab": {
          "base_uri": "https://localhost:8080/"
        },
        "id": "U23ioO3kLXI2",
        "outputId": "eb79fd36-a9d8-48fa-d5d4-ce9aa592d2c9"
      },
      "source": [
        "from sklearn.model_selection import train_test_split\n",
        "\n",
        "TRAIN_SIZE = 0.8\n",
        "\n",
        "df_train, df_test = train_test_split(data, test_size=1-TRAIN_SIZE, random_state=42)\n",
        "print(\"TRAIN size:\", len(df_train))\n",
        "print(\"TEST size:\", len(df_test))"
      ],
      "execution_count": 24,
      "outputs": [
        {
          "output_type": "stream",
          "text": [
            "TRAIN size: 352\n",
            "TEST size: 89\n"
          ],
          "name": "stdout"
        }
      ]
    },
    {
      "cell_type": "markdown",
      "metadata": {
        "id": "Nnx_YQ18dqjd"
      },
      "source": [
        "## Feature Extraction"
      ]
    },
    {
      "cell_type": "code",
      "metadata": {
        "id": "aqo_95L9RPEA",
        "colab": {
          "base_uri": "https://localhost:8080/"
        },
        "outputId": "37131359-66ac-4b75-ebf9-9467485bb13d"
      },
      "source": [
        "# data = dataCheck.copy()\n",
        "# # Ubah fitur menjadi bentuk TFIDF dengan jumlah kata 150\n",
        "mx_feat = 1000\n",
        "vectorizer = CountVectorizer(max_features=mx_feat)\n",
        "bow_data_train = vectorizer.fit_transform(df_train['content'])\n",
        "bow_data_train = pd.DataFrame.sparse.from_spmatrix(bow_data_train,columns=vectorizer.get_feature_names())\n",
        "\n",
        "bow_data_test = vectorizer.transform(df_test['content'])\n",
        "bow_data_test = pd.DataFrame.sparse.from_spmatrix(bow_data_test,columns=vectorizer.get_feature_names())\n",
        "# data = data.join(bow_data)"
      ],
      "execution_count": 27,
      "outputs": [
        {
          "output_type": "stream",
          "text": [
            "\n"
          ],
          "name": "stdout"
        }
      ]
    },
    {
      "cell_type": "code",
      "metadata": {
        "colab": {
          "base_uri": "https://localhost:8080/"
        },
        "id": "k65yVqpZtAiB",
        "outputId": "ad9d7ba6-8002-44ee-81af-d0da01a9cc41"
      },
      "source": [
        "joblib.dump(vectorizer, 'CountVectorizerSentimen.pkl')"
      ],
      "execution_count": null,
      "outputs": [
        {
          "output_type": "execute_result",
          "data": {
            "text/plain": [
              "['CountVectorizerSentimen.pkl']"
            ]
          },
          "metadata": {
            "tags": []
          },
          "execution_count": 245
        }
      ]
    },
    {
      "cell_type": "markdown",
      "metadata": {
        "id": "WiJ9zzQJ3w4N"
      },
      "source": [
        "## Modeling"
      ]
    },
    {
      "cell_type": "code",
      "metadata": {
        "id": "vhVUjxgZ0weN"
      },
      "source": [
        "# Metrics\n",
        "from sklearn.metrics import accuracy_score"
      ],
      "execution_count": null,
      "outputs": []
    },
    {
      "cell_type": "code",
      "metadata": {
        "id": "z0PXupOvNG5e"
      },
      "source": [
        "x_train = bow_data_train.values\n",
        "x_test = bow_data_test.values"
      ],
      "execution_count": null,
      "outputs": []
    },
    {
      "cell_type": "code",
      "metadata": {
        "colab": {
          "base_uri": "https://localhost:8080/"
        },
        "id": "dul6iEHJMZD6",
        "outputId": "6ab87916-3384-44b9-f781-cce7c020e155"
      },
      "source": [
        "from sklearn.preprocessing import LabelEncoder\n",
        "\n",
        "encoder = LabelEncoder()\n",
        "encoder.fit(df_train['Label Sentimen Analysis'].tolist())\n",
        "\n",
        "y_train = encoder.transform(df_train['Label Sentimen Analysis'].tolist())\n",
        "y_test = encoder.transform(df_test['Label Sentimen Analysis'].tolist())\n",
        "\n",
        "y_train = y_train.reshape(-1,1)\n",
        "y_test = y_test.reshape(-1,1)\n",
        "\n",
        "print(\"y_train\",y_train.shape)\n",
        "print(\"y_test\",y_test.shape)"
      ],
      "execution_count": null,
      "outputs": [
        {
          "output_type": "stream",
          "text": [
            "y_train (352, 1)\n",
            "y_test (89, 1)\n"
          ],
          "name": "stdout"
        }
      ]
    },
    {
      "cell_type": "code",
      "metadata": {
        "id": "uwGYr6GRMh06"
      },
      "source": [
        "dropout = 0.1\n",
        "def make_nn(dropout):\n",
        "  inputs = Input(shape=(mx_feat,))\n",
        "  layer = Dropout(dropout)(inputs)\n",
        "  layer = Dense(16, activation=\"relu\")(layer)\n",
        "  layer = Dense(16, activation=\"relu\")(layer)\n",
        "  layer = Dense(1, activation=\"sigmoid\")(layer)\n",
        "  model = Model(inputs, layer)\n",
        "  return model\n",
        "model = make_nn(dropout)"
      ],
      "execution_count": null,
      "outputs": []
    },
    {
      "cell_type": "code",
      "metadata": {
        "id": "34wbxvBFNCuM",
        "colab": {
          "base_uri": "https://localhost:8080/"
        },
        "outputId": "4357a571-07e3-477c-9aa6-585d52179a1d"
      },
      "source": [
        "lr_schedule = tf.keras.callbacks.LearningRateScheduler(\n",
        "    lambda epoch: 1e-6 * 10**(epoch / 10))\n",
        "model.compile(loss='binary_crossentropy', optimizer=tf.keras.optimizers.Adam(lr=1e-6), metrics=['accuracy'])\n",
        "history = model.fit(x_train, y_train,validation_data=(x_test,y_test), batch_size=8, epochs=70, callbacks=[lr_schedule],verbose=1)"
      ],
      "execution_count": null,
      "outputs": [
        {
          "output_type": "stream",
          "text": [
            "Epoch 1/70\n",
            "44/44 [==============================] - 1s 9ms/step - loss: 0.7585 - accuracy: 0.4315 - val_loss: 0.7637 - val_accuracy: 0.3820\n",
            "Epoch 2/70\n",
            "44/44 [==============================] - 0s 2ms/step - loss: 0.7498 - accuracy: 0.4541 - val_loss: 0.7634 - val_accuracy: 0.3820\n",
            "Epoch 3/70\n",
            "44/44 [==============================] - 0s 3ms/step - loss: 0.7578 - accuracy: 0.4514 - val_loss: 0.7630 - val_accuracy: 0.3820\n",
            "Epoch 4/70\n",
            "44/44 [==============================] - 0s 3ms/step - loss: 0.7739 - accuracy: 0.4002 - val_loss: 0.7626 - val_accuracy: 0.3820\n",
            "Epoch 5/70\n",
            "44/44 [==============================] - 0s 2ms/step - loss: 0.7612 - accuracy: 0.4093 - val_loss: 0.7620 - val_accuracy: 0.3820\n",
            "Epoch 6/70\n",
            "44/44 [==============================] - 0s 3ms/step - loss: 0.7743 - accuracy: 0.3972 - val_loss: 0.7613 - val_accuracy: 0.3820\n",
            "Epoch 7/70\n",
            "44/44 [==============================] - 0s 2ms/step - loss: 0.7741 - accuracy: 0.4214 - val_loss: 0.7604 - val_accuracy: 0.3820\n",
            "Epoch 8/70\n",
            "44/44 [==============================] - 0s 2ms/step - loss: 0.7678 - accuracy: 0.4087 - val_loss: 0.7593 - val_accuracy: 0.3820\n",
            "Epoch 9/70\n",
            "44/44 [==============================] - 0s 3ms/step - loss: 0.7347 - accuracy: 0.4445 - val_loss: 0.7580 - val_accuracy: 0.3933\n",
            "Epoch 10/70\n",
            "44/44 [==============================] - 0s 2ms/step - loss: 0.7534 - accuracy: 0.4172 - val_loss: 0.7561 - val_accuracy: 0.3933\n",
            "Epoch 11/70\n",
            "44/44 [==============================] - 0s 2ms/step - loss: 0.7260 - accuracy: 0.4712 - val_loss: 0.7541 - val_accuracy: 0.4045\n",
            "Epoch 12/70\n",
            "44/44 [==============================] - 0s 2ms/step - loss: 0.7518 - accuracy: 0.4806 - val_loss: 0.7516 - val_accuracy: 0.4157\n",
            "Epoch 13/70\n",
            "44/44 [==============================] - 0s 3ms/step - loss: 0.7472 - accuracy: 0.4196 - val_loss: 0.7485 - val_accuracy: 0.4045\n",
            "Epoch 14/70\n",
            "44/44 [==============================] - 0s 2ms/step - loss: 0.7350 - accuracy: 0.4116 - val_loss: 0.7450 - val_accuracy: 0.4157\n",
            "Epoch 15/70\n",
            "44/44 [==============================] - 0s 2ms/step - loss: 0.7479 - accuracy: 0.4985 - val_loss: 0.7409 - val_accuracy: 0.4157\n",
            "Epoch 16/70\n",
            "44/44 [==============================] - 0s 2ms/step - loss: 0.6799 - accuracy: 0.5430 - val_loss: 0.7368 - val_accuracy: 0.4157\n",
            "Epoch 17/70\n",
            "44/44 [==============================] - 0s 3ms/step - loss: 0.7055 - accuracy: 0.5020 - val_loss: 0.7317 - val_accuracy: 0.4494\n",
            "Epoch 18/70\n",
            "44/44 [==============================] - 0s 2ms/step - loss: 0.6780 - accuracy: 0.5273 - val_loss: 0.7259 - val_accuracy: 0.4944\n",
            "Epoch 19/70\n",
            "44/44 [==============================] - 0s 2ms/step - loss: 0.6590 - accuracy: 0.6134 - val_loss: 0.7191 - val_accuracy: 0.5056\n",
            "Epoch 20/70\n",
            "44/44 [==============================] - 0s 2ms/step - loss: 0.6395 - accuracy: 0.6394 - val_loss: 0.7124 - val_accuracy: 0.5169\n",
            "Epoch 21/70\n",
            "44/44 [==============================] - 0s 3ms/step - loss: 0.6417 - accuracy: 0.6276 - val_loss: 0.7075 - val_accuracy: 0.5169\n",
            "Epoch 22/70\n",
            "44/44 [==============================] - 0s 3ms/step - loss: 0.5984 - accuracy: 0.7113 - val_loss: 0.6991 - val_accuracy: 0.5393\n",
            "Epoch 23/70\n",
            "44/44 [==============================] - 0s 3ms/step - loss: 0.5759 - accuracy: 0.6917 - val_loss: 0.6894 - val_accuracy: 0.6067\n",
            "Epoch 24/70\n",
            "44/44 [==============================] - 0s 3ms/step - loss: 0.5582 - accuracy: 0.7353 - val_loss: 0.6809 - val_accuracy: 0.6292\n",
            "Epoch 25/70\n",
            "44/44 [==============================] - 0s 2ms/step - loss: 0.5095 - accuracy: 0.7387 - val_loss: 0.6695 - val_accuracy: 0.6404\n",
            "Epoch 26/70\n",
            "44/44 [==============================] - 0s 3ms/step - loss: 0.4490 - accuracy: 0.7931 - val_loss: 0.6560 - val_accuracy: 0.6292\n",
            "Epoch 27/70\n",
            "44/44 [==============================] - 0s 2ms/step - loss: 0.4158 - accuracy: 0.8194 - val_loss: 0.6407 - val_accuracy: 0.6742\n",
            "Epoch 28/70\n",
            "44/44 [==============================] - 0s 2ms/step - loss: 0.3459 - accuracy: 0.8797 - val_loss: 0.6359 - val_accuracy: 0.6966\n",
            "Epoch 29/70\n",
            "44/44 [==============================] - 0s 2ms/step - loss: 0.2994 - accuracy: 0.9098 - val_loss: 0.6409 - val_accuracy: 0.6854\n",
            "Epoch 30/70\n",
            "44/44 [==============================] - 0s 2ms/step - loss: 0.2050 - accuracy: 0.9601 - val_loss: 0.6528 - val_accuracy: 0.6966\n",
            "Epoch 31/70\n",
            "44/44 [==============================] - 0s 3ms/step - loss: 0.1747 - accuracy: 0.9743 - val_loss: 0.6649 - val_accuracy: 0.7303\n",
            "Epoch 32/70\n",
            "44/44 [==============================] - 0s 3ms/step - loss: 0.1129 - accuracy: 0.9863 - val_loss: 0.7384 - val_accuracy: 0.7640\n",
            "Epoch 33/70\n",
            "44/44 [==============================] - 0s 2ms/step - loss: 0.0738 - accuracy: 0.9932 - val_loss: 0.7372 - val_accuracy: 0.7303\n",
            "Epoch 34/70\n",
            "44/44 [==============================] - 0s 2ms/step - loss: 0.0609 - accuracy: 0.9819 - val_loss: 0.8359 - val_accuracy: 0.7303\n",
            "Epoch 35/70\n",
            "44/44 [==============================] - 0s 2ms/step - loss: 0.0400 - accuracy: 0.9945 - val_loss: 0.8438 - val_accuracy: 0.7528\n",
            "Epoch 36/70\n",
            "44/44 [==============================] - 0s 3ms/step - loss: 0.0367 - accuracy: 0.9913 - val_loss: 0.9678 - val_accuracy: 0.7191\n",
            "Epoch 37/70\n",
            "44/44 [==============================] - 0s 3ms/step - loss: 0.0220 - accuracy: 0.9988 - val_loss: 1.2351 - val_accuracy: 0.7191\n",
            "Epoch 38/70\n",
            "44/44 [==============================] - 0s 3ms/step - loss: 0.0811 - accuracy: 0.9824 - val_loss: 1.3298 - val_accuracy: 0.6404\n",
            "Epoch 39/70\n",
            "44/44 [==============================] - 0s 3ms/step - loss: 0.1736 - accuracy: 0.9539 - val_loss: 1.2639 - val_accuracy: 0.6854\n",
            "Epoch 40/70\n",
            "44/44 [==============================] - 0s 3ms/step - loss: 0.2747 - accuracy: 0.9232 - val_loss: 0.9764 - val_accuracy: 0.7191\n",
            "Epoch 41/70\n",
            "44/44 [==============================] - 0s 2ms/step - loss: 0.0761 - accuracy: 0.9687 - val_loss: 1.4984 - val_accuracy: 0.7079\n",
            "Epoch 42/70\n",
            "44/44 [==============================] - 0s 2ms/step - loss: 0.0395 - accuracy: 0.9895 - val_loss: 1.4741 - val_accuracy: 0.7753\n",
            "Epoch 43/70\n",
            "44/44 [==============================] - 0s 2ms/step - loss: 0.0487 - accuracy: 0.9890 - val_loss: 1.3605 - val_accuracy: 0.6966\n",
            "Epoch 44/70\n",
            "44/44 [==============================] - 0s 2ms/step - loss: 0.0752 - accuracy: 0.9705 - val_loss: 1.9741 - val_accuracy: 0.6966\n",
            "Epoch 45/70\n",
            "44/44 [==============================] - 0s 3ms/step - loss: 0.2808 - accuracy: 0.9167 - val_loss: 1.8119 - val_accuracy: 0.7528\n",
            "Epoch 46/70\n",
            "44/44 [==============================] - 0s 2ms/step - loss: 0.0822 - accuracy: 0.9634 - val_loss: 1.7653 - val_accuracy: 0.7303\n",
            "Epoch 47/70\n",
            "44/44 [==============================] - 0s 3ms/step - loss: 0.1864 - accuracy: 0.9498 - val_loss: 1.3398 - val_accuracy: 0.7079\n",
            "Epoch 48/70\n",
            "44/44 [==============================] - 0s 3ms/step - loss: 0.1466 - accuracy: 0.9409 - val_loss: 3.3174 - val_accuracy: 0.7079\n",
            "Epoch 49/70\n",
            "44/44 [==============================] - 0s 3ms/step - loss: 0.2845 - accuracy: 0.9083 - val_loss: 1.9222 - val_accuracy: 0.7528\n",
            "Epoch 50/70\n",
            "44/44 [==============================] - 0s 3ms/step - loss: 0.7230 - accuracy: 0.8835 - val_loss: 1.0692 - val_accuracy: 0.6742\n",
            "Epoch 51/70\n",
            "44/44 [==============================] - 0s 3ms/step - loss: 2.0788 - accuracy: 0.8562 - val_loss: 3.6213 - val_accuracy: 0.5730\n",
            "Epoch 52/70\n",
            "44/44 [==============================] - 0s 3ms/step - loss: 2.4683 - accuracy: 0.6378 - val_loss: 0.6826 - val_accuracy: 0.5730\n",
            "Epoch 53/70\n",
            "44/44 [==============================] - 0s 3ms/step - loss: 4.7894 - accuracy: 0.6550 - val_loss: 0.6838 - val_accuracy: 0.5730\n",
            "Epoch 54/70\n",
            "44/44 [==============================] - 0s 3ms/step - loss: 0.6594 - accuracy: 0.6420 - val_loss: 0.7000 - val_accuracy: 0.5730\n",
            "Epoch 55/70\n",
            "44/44 [==============================] - 0s 3ms/step - loss: 0.8372 - accuracy: 0.5993 - val_loss: 0.6850 - val_accuracy: 0.5730\n",
            "Epoch 56/70\n",
            "44/44 [==============================] - 0s 3ms/step - loss: 0.6929 - accuracy: 0.5258 - val_loss: 0.6915 - val_accuracy: 0.5730\n",
            "Epoch 57/70\n",
            "44/44 [==============================] - 0s 3ms/step - loss: 0.6775 - accuracy: 0.5992 - val_loss: 0.6846 - val_accuracy: 0.5730\n",
            "Epoch 58/70\n",
            "44/44 [==============================] - 0s 2ms/step - loss: 0.7457 - accuracy: 0.4665 - val_loss: 0.7263 - val_accuracy: 0.5730\n",
            "Epoch 59/70\n",
            "44/44 [==============================] - 0s 3ms/step - loss: 0.7339 - accuracy: 0.5140 - val_loss: 0.6858 - val_accuracy: 0.5730\n",
            "Epoch 60/70\n",
            "44/44 [==============================] - 0s 3ms/step - loss: 0.7048 - accuracy: 0.5452 - val_loss: 0.6991 - val_accuracy: 0.4270\n",
            "Epoch 61/70\n",
            "44/44 [==============================] - 0s 3ms/step - loss: 0.6890 - accuracy: 0.5779 - val_loss: 0.6844 - val_accuracy: 0.5730\n",
            "Epoch 62/70\n",
            "44/44 [==============================] - 0s 3ms/step - loss: 0.6966 - accuracy: 0.6025 - val_loss: 1.1452 - val_accuracy: 0.5730\n",
            "Epoch 63/70\n",
            "44/44 [==============================] - 0s 2ms/step - loss: 1.0457 - accuracy: 0.4695 - val_loss: 0.9765 - val_accuracy: 0.5730\n",
            "Epoch 64/70\n",
            "44/44 [==============================] - 0s 3ms/step - loss: 0.8041 - accuracy: 0.5288 - val_loss: 0.7650 - val_accuracy: 0.5730\n",
            "Epoch 65/70\n",
            "44/44 [==============================] - 0s 3ms/step - loss: 0.6915 - accuracy: 0.5633 - val_loss: 0.7137 - val_accuracy: 0.5730\n",
            "Epoch 66/70\n",
            "44/44 [==============================] - 0s 3ms/step - loss: 0.6992 - accuracy: 0.5687 - val_loss: 0.7599 - val_accuracy: 0.4270\n",
            "Epoch 67/70\n",
            "44/44 [==============================] - 0s 2ms/step - loss: 0.9767 - accuracy: 0.4820 - val_loss: 0.9838 - val_accuracy: 0.5730\n",
            "Epoch 68/70\n",
            "44/44 [==============================] - 0s 2ms/step - loss: 0.8242 - accuracy: 0.5078 - val_loss: 0.7013 - val_accuracy: 0.5730\n",
            "Epoch 69/70\n",
            "44/44 [==============================] - 0s 3ms/step - loss: 0.7230 - accuracy: 0.5970 - val_loss: 0.9555 - val_accuracy: 0.5730\n",
            "Epoch 70/70\n",
            "44/44 [==============================] - 0s 3ms/step - loss: 0.7816 - accuracy: 0.5924 - val_loss: 3.8070 - val_accuracy: 0.4270\n"
          ],
          "name": "stdout"
        }
      ]
    },
    {
      "cell_type": "code",
      "metadata": {
        "id": "4PYX42TgN2Zt",
        "colab": {
          "base_uri": "https://localhost:8080/",
          "height": 304
        },
        "outputId": "359129eb-ed28-4920-9a9b-e34d54d4e07b"
      },
      "source": [
        "plt.xlabel('learning rate')\n",
        "plt.ylabel('val_loss')\n",
        "plt.semilogx(history.history[\"lr\"], history.history[\"val_loss\"])\n",
        "plt.axis([1e-6, 1e0, 0, 2])"
      ],
      "execution_count": null,
      "outputs": [
        {
          "output_type": "execute_result",
          "data": {
            "text/plain": [
              "(1e-06, 1.0, 0.0, 2.0)"
            ]
          },
          "metadata": {
            "tags": []
          },
          "execution_count": 257
        },
        {
          "output_type": "display_data",
          "data": {
            "image/png": "[encoded data removed]",
            "text/plain": [
              "<Figure size 432x288 with 1 Axes>"
            ]
          },
          "metadata": {
            "tags": [],
            "needs_background": "light"
          }
        }
      ]
    },
    {
      "cell_type": "code",
      "metadata": {
        "colab": {
          "base_uri": "https://localhost:8080/"
        },
        "id": "jIlcSOnkN9wT",
        "outputId": "3739aed8-5501-4764-c1c7-a662c36ec26a"
      },
      "source": [
        "model = make_nn(dropout)\n",
        "model.compile(loss='binary_crossentropy', optimizer=tf.keras.optimizers.Adam(lr=2*1e-4), metrics=['accuracy'])\n",
        "history = model.fit(x_train, y_train,validation_data=(x_test,y_test), batch_size=8, epochs=20,verbose=1)"
      ],
      "execution_count": null,
      "outputs": [
        {
          "output_type": "stream",
          "text": [
            "Epoch 1/20\n",
            "44/44 [==============================] - 1s 9ms/step - loss: 0.6559 - accuracy: 0.6216 - val_loss: 0.6794 - val_accuracy: 0.5506\n",
            "Epoch 2/20\n",
            "44/44 [==============================] - 0s 2ms/step - loss: 0.6602 - accuracy: 0.5929 - val_loss: 0.6718 - val_accuracy: 0.5618\n",
            "Epoch 3/20\n",
            "44/44 [==============================] - 0s 3ms/step - loss: 0.5929 - accuracy: 0.6570 - val_loss: 0.6646 - val_accuracy: 0.5843\n",
            "Epoch 4/20\n",
            "44/44 [==============================] - 0s 3ms/step - loss: 0.5575 - accuracy: 0.6925 - val_loss: 0.6568 - val_accuracy: 0.5955\n",
            "Epoch 5/20\n",
            "44/44 [==============================] - 0s 3ms/step - loss: 0.5342 - accuracy: 0.7049 - val_loss: 0.6504 - val_accuracy: 0.6292\n",
            "Epoch 6/20\n",
            "44/44 [==============================] - 0s 3ms/step - loss: 0.5035 - accuracy: 0.7016 - val_loss: 0.6452 - val_accuracy: 0.6180\n",
            "Epoch 7/20\n",
            "44/44 [==============================] - 0s 3ms/step - loss: 0.5074 - accuracy: 0.6974 - val_loss: 0.6396 - val_accuracy: 0.6517\n",
            "Epoch 8/20\n",
            "44/44 [==============================] - 0s 2ms/step - loss: 0.4482 - accuracy: 0.7459 - val_loss: 0.6361 - val_accuracy: 0.6742\n",
            "Epoch 9/20\n",
            "44/44 [==============================] - 0s 3ms/step - loss: 0.4225 - accuracy: 0.8159 - val_loss: 0.6307 - val_accuracy: 0.6966\n",
            "Epoch 10/20\n",
            "44/44 [==============================] - 0s 2ms/step - loss: 0.4425 - accuracy: 0.8266 - val_loss: 0.6226 - val_accuracy: 0.7191\n",
            "Epoch 11/20\n",
            "44/44 [==============================] - 0s 3ms/step - loss: 0.3852 - accuracy: 0.8550 - val_loss: 0.6179 - val_accuracy: 0.7416\n",
            "Epoch 12/20\n",
            "44/44 [==============================] - 0s 2ms/step - loss: 0.3473 - accuracy: 0.9052 - val_loss: 0.6095 - val_accuracy: 0.7528\n",
            "Epoch 13/20\n",
            "44/44 [==============================] - 0s 3ms/step - loss: 0.3500 - accuracy: 0.8842 - val_loss: 0.6043 - val_accuracy: 0.7640\n",
            "Epoch 14/20\n",
            "44/44 [==============================] - 0s 3ms/step - loss: 0.3426 - accuracy: 0.8755 - val_loss: 0.5932 - val_accuracy: 0.7753\n",
            "Epoch 15/20\n",
            "44/44 [==============================] - 0s 3ms/step - loss: 0.2983 - accuracy: 0.9094 - val_loss: 0.5885 - val_accuracy: 0.7753\n",
            "Epoch 16/20\n",
            "44/44 [==============================] - 0s 3ms/step - loss: 0.2905 - accuracy: 0.9187 - val_loss: 0.5743 - val_accuracy: 0.7865\n",
            "Epoch 17/20\n",
            "44/44 [==============================] - 0s 2ms/step - loss: 0.2573 - accuracy: 0.9530 - val_loss: 0.5669 - val_accuracy: 0.7753\n",
            "Epoch 18/20\n",
            "44/44 [==============================] - 0s 3ms/step - loss: 0.2379 - accuracy: 0.9404 - val_loss: 0.5595 - val_accuracy: 0.7865\n",
            "Epoch 19/20\n",
            "44/44 [==============================] - 0s 3ms/step - loss: 0.2318 - accuracy: 0.9673 - val_loss: 0.5469 - val_accuracy: 0.7978\n",
            "Epoch 20/20\n",
            "44/44 [==============================] - 0s 2ms/step - loss: 0.2055 - accuracy: 0.9397 - val_loss: 0.5392 - val_accuracy: 0.7978\n"
          ],
          "name": "stdout"
        }
      ]
    },
    {
      "cell_type": "code",
      "metadata": {
        "id": "ypsrQU3sOKJ8"
      },
      "source": [
        "X_pred = model.predict(x_test).round()"
      ],
      "execution_count": null,
      "outputs": []
    },
    {
      "cell_type": "code",
      "metadata": {
        "colab": {
          "base_uri": "https://localhost:8080/"
        },
        "id": "s8MZYFirOsbv",
        "outputId": "7d6d44d6-f9a9-49d3-ec87-f090ef7c7090"
      },
      "source": [
        "accuracy_score(X_pred,y_test)"
      ],
      "execution_count": null,
      "outputs": [
        {
          "output_type": "execute_result",
          "data": {
            "text/plain": [
              "0.8089887640449438"
            ]
          },
          "metadata": {
            "tags": []
          },
          "execution_count": 266
        }
      ]
    },
    {
      "cell_type": "code",
      "metadata": {
        "colab": {
          "base_uri": "https://localhost:8080/"
        },
        "id": "o5MmT58ovXqy",
        "outputId": "d48675d4-d676-4162-e855-124cc32f3781"
      },
      "source": [
        "model.save('model')"
      ],
      "execution_count": null,
      "outputs": [
        {
          "output_type": "stream",
          "text": [
            "INFO:tensorflow:Assets written to: model/assets\n"
          ],
          "name": "stdout"
        }
      ]
    },
    {
      "cell_type": "markdown",
      "metadata": {
        "id": "qSf4su7auIXP"
      },
      "source": [
        "## Pipeline"
      ]
    },
    {
      "cell_type": "code",
      "metadata": {
        "id": "GcFrloUAuiGH"
      },
      "source": [
        "CountVectorizer = joblib.load('/content/CountVectorizerSentimen.pkl')  \n",
        "stop_words = open(\"/content/stopword.txt\", \"r\").read().split()\n",
        "model = tf.keras.models.load_model('model')"
      ],
      "execution_count": 29,
      "outputs": []
    },
    {
      "cell_type": "code",
      "metadata": {
        "id": "Hq__WsTbLhQk"
      },
      "source": [
        "data = pd.read_excel('/content/data_baru.xlsx')"
      ],
      "execution_count": null,
      "outputs": []
    },
    {
      "cell_type": "code",
      "metadata": {
        "id": "ub62u1aquUkG"
      },
      "source": [
        "# bersihkan teks\n",
        "def clean_text(text):\n",
        "    '''Make text lowercase, remove text in square brackets, remove punctuation and remove words containing numbers.'''\n",
        "    text = str(text)\n",
        "    text = text.lower()\n",
        "    text = re.sub('\\[.*?\\]', '', text)\n",
        "    text = re.sub('[%s]' % re.escape(string.punctuation), '', text)\n",
        "    text = re.sub('\\w*\\d\\w*', '', text)\n",
        "    text = re.sub('[‘’“”…]', '', text)\n",
        "    text = re.sub('\\n', ' ', text)\n",
        "    text = re.sub('\\r', ' ', text)\n",
        "    text = ' '.join([word for word in text.split() if word.lower() not in stop_words])\n",
        "    return text"
      ],
      "execution_count": null,
      "outputs": []
    },
    {
      "cell_type": "code",
      "metadata": {
        "id": "MbI1KVv7GUyD"
      },
      "source": [
        "def normalize(text):\n",
        "    text = text.split()\n",
        "    for val in dic.itertuples(index=False):\n",
        "        text = [w.replace(val.slang, val.formal) if w == val.slang else w for w in text]\n",
        "    return \" \".join(text)"
      ],
      "execution_count": null,
      "outputs": []
    },
    {
      "cell_type": "code",
      "metadata": {
        "id": "zwlRlRY8uyCi"
      },
      "source": [
        "def vectorize_verif(data):\n",
        "  bow_data = CountVectorizer.transform(data['content'])\n",
        "  bow_data = pd.DataFrame.sparse.from_spmatrix(bow_data,columns=CountVectorizer.get_feature_names())\n",
        "  return bow_data"
      ],
      "execution_count": null,
      "outputs": []
    },
    {
      "cell_type": "code",
      "metadata": {
        "id": "n8OtcRlXvvQA"
      },
      "source": [
        "def predict_data(data):\n",
        "  data['content'] = data['content'].apply(clean_text)\n",
        "  data['content'] = data['content'].apply(clean_text)\n",
        "  bow_data = vectorize_verif(data)\n",
        "  return model.predict(bow_data)"
      ],
      "execution_count": null,
      "outputs": []
    },
    {
      "cell_type": "code",
      "metadata": {
        "id": "NDhUKS0bwauX"
      },
      "source": [
        "# res = encoder.transform(data['Label Sentimen Analysis'])\n",
        "pred = predict_data(data)"
      ],
      "execution_count": null,
      "outputs": []
    },
    {
      "cell_type": "code",
      "metadata": {
        "id": "8u2U4rfxKJfH"
      },
      "source": [
        "def changeLabel(value):\n",
        "  if value > 0.6:\n",
        "    return 1\n",
        "  elif value < 0.4:\n",
        "    return -1\n",
        "  else:\n",
        "    return 0\n",
        "vchangeLabel = np.vectorize(changeLabel)\n",
        "data['Label Sentimen Analysis'] = vchangeLabel(pred)"
      ],
      "execution_count": null,
      "outputs": []
    },
    {
      "cell_type": "markdown",
      "metadata": {
        "id": "7_f5wELEmWnc"
      },
      "source": [
        "# ML 2"
      ]
    },
    {
      "cell_type": "markdown",
      "metadata": {
        "id": "lyuoAtzsmmbu"
      },
      "source": [
        "## Cleaning"
      ]
    },
    {
      "cell_type": "code",
      "metadata": {
        "id": "8ydk0MGPmn41",
        "colab": {
          "base_uri": "https://localhost:8080/"
        },
        "outputId": "a56b4fdb-2da2-4aa5-9128-6888cf348878"
      },
      "source": [
        "import pandas as pd\n",
        "\n",
        "\n",
        "data = pd.read_excel('../Data/data_baru.xlsx')\n",
        "stop_words = open(\"../Data/stopword.txt\", \"r\").read().split()\n",
        "dic = pd.read_csv('../Data/normalize_word.csv')"
      ],
      "execution_count": 31,
      "outputs": [
        {
          "output_type": "stream",
          "text": [
            "\n"
          ],
          "name": "stdout"
        }
      ]
    },
    {
      "cell_type": "code",
      "metadata": {
        "id": "0Xbi1rm-nFGI"
      },
      "source": [
        "def normalize(text):\n",
        "    text = text.split()\n",
        "    for val in dic.itertuples(index=False):\n",
        "        text = [w.replace(val.slang, val.formal) if w == val.slang else w for w in text]\n",
        "    return \" \".join(text)"
      ],
      "execution_count": 32,
      "outputs": []
    },
    {
      "cell_type": "code",
      "metadata": {
        "id": "oIZ7bQFsnGLh"
      },
      "source": [
        "import re\n",
        "import string\n",
        "\n",
        "# bersihkan teks\n",
        "def clean_text(text,stopwords):\n",
        "    '''Make text lowercase, remove text in square brackets, remove punctuation and remove words containing numbers.'''\n",
        "    text = str(text)\n",
        "    text = text.lower()\n",
        "    text = re.sub('\\[.*?\\]', '', text)\n",
        "    text = re.sub('[%s]' % re.escape(string.punctuation), '', text)\n",
        "    text = re.sub('\\w*\\d\\w*', '', text)\n",
        "    text = re.sub('[‘’“”…]', '', text)\n",
        "    text = re.sub('\\n', ' ', text)\n",
        "    text = re.sub('\\r', ' ', text)\n",
        "    text = ' '.join([word for word in text.split() if word.lower() not in stopwords])\n",
        "    return text\n",
        "data['content'] = data['content'].apply(clean_text,stopwords=stop_words)"
      ],
      "execution_count": 33,
      "outputs": []
    },
    {
      "cell_type": "code",
      "metadata": {
        "id": "RsU7DUmYp_OR",
        "colab": {
          "base_uri": "https://localhost:8080/"
        },
        "outputId": "a076d4c0-caba-4447-f833-0f4428a0ead2"
      },
      "source": [
        "%%time\n",
        "data['content'] = data['content'].apply(clean_text, stopwords=stop_words)\n",
        "data['content'] = data['content'].apply(normalize)"
      ],
      "execution_count": 34,
      "outputs": [
        {
          "output_type": "stream",
          "text": [
            "CPU times: user 1min 8s, sys: 109 ms, total: 1min 8s\n",
            "Wall time: 1min 8s\n"
          ],
          "name": "stdout"
        }
      ]
    },
    {
      "cell_type": "code",
      "metadata": {
        "id": "oc7YPMHHnSLz"
      },
      "source": [
        "def checkLen(data):\n",
        "  return len(data.split())\n",
        "data['Len'] = data['content'].apply(checkLen)"
      ],
      "execution_count": 35,
      "outputs": []
    },
    {
      "cell_type": "code",
      "metadata": {
        "colab": {
          "base_uri": "https://localhost:8080/"
        },
        "id": "YN4g_DuUnPlb",
        "outputId": "6f0e4e6e-1f76-4b7b-f8e8-866993b97846"
      },
      "source": [
        "len(data)"
      ],
      "execution_count": 36,
      "outputs": [
        {
          "output_type": "execute_result",
          "data": {
            "text/plain": [
              "625"
            ]
          },
          "metadata": {
            "tags": []
          },
          "execution_count": 36
        }
      ]
    },
    {
      "cell_type": "code",
      "metadata": {
        "id": "HCdjdS7OnXGC"
      },
      "source": [
        "data = data[data['Len'] > 10].reset_index(drop=True)"
      ],
      "execution_count": 37,
      "outputs": []
    },
    {
      "cell_type": "code",
      "metadata": {
        "colab": {
          "base_uri": "https://localhost:8080/"
        },
        "id": "OGyym0TXnY7N",
        "outputId": "66b8247a-3bae-46dd-f56b-74c10d7e207d"
      },
      "source": [
        "len(data)"
      ],
      "execution_count": 38,
      "outputs": [
        {
          "output_type": "execute_result",
          "data": {
            "text/plain": [
              "619"
            ]
          },
          "metadata": {
            "tags": []
          },
          "execution_count": 38
        }
      ]
    },
    {
      "cell_type": "code",
      "metadata": {
        "id": "ACu02C-xnaPg"
      },
      "source": [
        "data = data[data['sentiment'].isin([1.0,-1.0])]"
      ],
      "execution_count": 39,
      "outputs": []
    },
    {
      "cell_type": "code",
      "metadata": {
        "colab": {
          "base_uri": "https://localhost:8080/"
        },
        "id": "Lcg0A6_Qnwzn",
        "outputId": "9ae1b937-3a09-4574-95d3-436a56b3fc54"
      },
      "source": [
        "from sklearn.model_selection import train_test_split\n",
        "\n",
        "TRAIN_SIZE = 0.8\n",
        "\n",
        "df_train, df_test = train_test_split(data, test_size=1-TRAIN_SIZE, random_state=42)\n",
        "print(\"TRAIN size:\", len(df_train))\n",
        "print(\"TEST size:\", len(df_test))"
      ],
      "execution_count": 40,
      "outputs": [
        {
          "output_type": "stream",
          "text": [
            "TRAIN size: 352\n",
            "TEST size: 89\n"
          ],
          "name": "stdout"
        }
      ]
    },
    {
      "cell_type": "markdown",
      "metadata": {
        "id": "U_EdjUdpcWSZ"
      },
      "source": [
        "## Word2vec"
      ]
    },
    {
      "cell_type": "code",
      "metadata": {
        "colab": {
          "base_uri": "https://localhost:8080/"
        },
        "id": "az4s2hOncbuc",
        "outputId": "02087ca4-990d-4714-d8c4-48bb0afc7248"
      },
      "source": [
        "%%time\n",
        "documents = [_content.split() for _content in df_train.content] "
      ],
      "execution_count": 41,
      "outputs": [
        {
          "output_type": "stream",
          "text": [
            "CPU times: user 11.9 ms, sys: 2 ms, total: 13.9 ms\n",
            "Wall time: 17.1 ms\n"
          ],
          "name": "stdout"
        }
      ]
    },
    {
      "cell_type": "code",
      "metadata": {
        "id": "W11b-LsMcea8"
      },
      "source": [
        "import gensim\n",
        "\n",
        "# WORD2VEC \n",
        "W2V_SIZE = 200\n",
        "W2V_WINDOW = 7\n",
        "W2V_EPOCH = 32\n",
        "W2V_MIN_COUNT = 10\n",
        "\n",
        "w2v_model = gensim.models.word2vec.Word2Vec(size=W2V_SIZE, \n",
        "                                            window=W2V_WINDOW, \n",
        "                                            min_count=W2V_MIN_COUNT, \n",
        "                                            workers=8)"
      ],
      "execution_count": 42,
      "outputs": []
    },
    {
      "cell_type": "code",
      "metadata": {
        "id": "S9Rz4hKXcfx9"
      },
      "source": [
        "w2v_model.build_vocab(documents)\n"
      ],
      "execution_count": 43,
      "outputs": []
    },
    {
      "cell_type": "code",
      "metadata": {
        "colab": {
          "base_uri": "https://localhost:8080/"
        },
        "id": "69FsB-IwcimG",
        "outputId": "872efaa5-417a-4567-e794-363813a17f93"
      },
      "source": [
        "words = w2v_model.wv.vocab.keys()\n",
        "vocab_size = len(words)\n",
        "print(\"Vocab size\", vocab_size)"
      ],
      "execution_count": 44,
      "outputs": [
        {
          "output_type": "stream",
          "text": [
            "Vocab size 1705\n"
          ],
          "name": "stdout"
        }
      ]
    },
    {
      "cell_type": "code",
      "metadata": {
        "colab": {
          "base_uri": "https://localhost:8080/"
        },
        "id": "yGrVE8gock5d",
        "outputId": "9aaba2f1-a52b-41cb-acdb-e8e4c7adf237"
      },
      "source": [
        "%%time\n",
        "w2v_model.train(documents, total_examples=len(documents), epochs=W2V_EPOCH)"
      ],
      "execution_count": 45,
      "outputs": [
        {
          "output_type": "stream",
          "text": [
            "CPU times: user 5.73 s, sys: 90.7 ms, total: 5.82 s\n",
            "Wall time: 3.25 s\n"
          ],
          "name": "stdout"
        },
        {
          "output_type": "execute_result",
          "data": {
            "text/plain": [
              "(1675646, 2550496)"
            ]
          },
          "metadata": {
            "tags": []
          },
          "execution_count": 45
        }
      ]
    },
    {
      "cell_type": "code",
      "metadata": {
        "colab": {
          "base_uri": "https://localhost:8080/"
        },
        "id": "HnUzFuH-cmZG",
        "outputId": "eb014393-b600-456f-873c-51d32c62411b"
      },
      "source": [
        "w2v_model.most_similar(\"jakarta\")\n"
      ],
      "execution_count": 46,
      "outputs": [
        {
          "output_type": "execute_result",
          "data": {
            "text/plain": [
              "[('medan', 0.6947625279426575),\n",
              " ('merdeka', 0.625023365020752),\n",
              " ('kompascom', 0.6201826930046082),\n",
              " ('pemprov', 0.6006861925125122),\n",
              " ('timur', 0.5864685773849487),\n",
              " ('gubernur', 0.5797368288040161),\n",
              " ('banten', 0.5688251256942749),\n",
              " ('balai', 0.5651791095733643),\n",
              " ('pulau', 0.5613480806350708),\n",
              " ('baswedan', 0.5608643889427185)]"
            ]
          },
          "metadata": {
            "tags": []
          },
          "execution_count": 46
        }
      ]
    },
    {
      "cell_type": "code",
      "metadata": {
        "colab": {
          "base_uri": "https://localhost:8080/"
        },
        "id": "CctvT7oEco-Z",
        "outputId": "e91253e2-557d-4e49-bc39-0f4c26237c50"
      },
      "source": [
        "%%time\n",
        "\n",
        "from keras.preprocessing.text import Tokenizer\n",
        "\n",
        "tokenizer = Tokenizer()\n",
        "tokenizer.fit_on_texts(df_train.content)\n",
        "\n",
        "vocab_size = len(tokenizer.word_index) + 1\n",
        "print(\"Total words\", vocab_size)"
      ],
      "execution_count": 47,
      "outputs": [
        {
          "output_type": "stream",
          "text": [
            "Total words 11862\n",
            "CPU times: user 1.64 s, sys: 262 ms, total: 1.91 s\n",
            "Wall time: 1.92 s\n"
          ],
          "name": "stdout"
        }
      ]
    },
    {
      "cell_type": "code",
      "metadata": {
        "colab": {
          "base_uri": "https://localhost:8080/"
        },
        "id": "08mGdWxIcp8F",
        "outputId": "057f1886-0201-4fa1-c15e-9dc913de57b8"
      },
      "source": [
        "%%time\n",
        "\n",
        "from keras.preprocessing.sequence import pad_sequences\n",
        "\n",
        "# KERAS\n",
        "SEQUENCE_LENGTH = 200\n",
        "\n",
        "x_train = pad_sequences(tokenizer.texts_to_sequences(df_train.content), maxlen=SEQUENCE_LENGTH)\n",
        "x_test = pad_sequences(tokenizer.texts_to_sequences(df_test.content), maxlen=SEQUENCE_LENGTH)"
      ],
      "execution_count": 48,
      "outputs": [
        {
          "output_type": "stream",
          "text": [
            "CPU times: user 62.9 ms, sys: 3.93 ms, total: 66.9 ms\n",
            "Wall time: 64.7 ms\n"
          ],
          "name": "stdout"
        }
      ]
    },
    {
      "cell_type": "code",
      "metadata": {
        "colab": {
          "base_uri": "https://localhost:8080/"
        },
        "id": "qfZJX6-7mLvC",
        "outputId": "e7e49bfa-76dc-4c04-cd38-7fad8006f5b6"
      },
      "source": [
        "labels = []\n",
        "labels = df_train.sentiment.unique().tolist()\n",
        "labels"
      ],
      "execution_count": 49,
      "outputs": [
        {
          "output_type": "execute_result",
          "data": {
            "text/plain": [
              "[-1, 1]"
            ]
          },
          "metadata": {
            "tags": []
          },
          "execution_count": 49
        }
      ]
    },
    {
      "cell_type": "code",
      "metadata": {
        "colab": {
          "base_uri": "https://localhost:8080/"
        },
        "id": "zZaM9R8bn9SR",
        "outputId": "8d4a9e79-9d67-4d25-dcd1-89ecffedb268"
      },
      "source": [
        "from sklearn.preprocessing import LabelEncoder\n",
        "\n",
        "encoder = LabelEncoder()\n",
        "encoder.fit(df_train.sentiment.tolist())\n",
        "\n",
        "y_train = encoder.transform(df_train.sentiment.tolist())\n",
        "y_test = encoder.transform(df_test.sentiment.tolist())\n",
        "\n",
        "y_train = y_train.reshape(-1,1)\n",
        "y_test = y_test.reshape(-1,1)\n",
        "\n",
        "print(\"y_train\",y_train.shape)\n",
        "print(\"y_test\",y_test.shape)"
      ],
      "execution_count": 50,
      "outputs": [
        {
          "output_type": "stream",
          "text": [
            "y_train (352, 1)\n",
            "y_test (89, 1)\n"
          ],
          "name": "stdout"
        }
      ]
    },
    {
      "cell_type": "code",
      "metadata": {
        "colab": {
          "base_uri": "https://localhost:8080/"
        },
        "id": "aB7FaiucoEZP",
        "outputId": "1cc0a5b8-c428-493e-be4c-0c987507432f"
      },
      "source": [
        "print(\"x_train\", x_train.shape)\n",
        "print(\"y_train\", y_train.shape)\n",
        "print()\n",
        "print(\"x_test\", x_test.shape)\n",
        "print(\"y_test\", y_test.shape)"
      ],
      "execution_count": 51,
      "outputs": [
        {
          "output_type": "stream",
          "text": [
            "x_train (352, 200)\n",
            "y_train (352, 1)\n",
            "\n",
            "x_test (89, 200)\n",
            "y_test (89, 1)\n"
          ],
          "name": "stdout"
        }
      ]
    },
    {
      "cell_type": "code",
      "metadata": {
        "colab": {
          "base_uri": "https://localhost:8080/"
        },
        "id": "k-62_hEqoFbz",
        "outputId": "d40b0ccd-6736-42b5-e950-6cfbe534ee5b"
      },
      "source": [
        "import numpy as np\n",
        "\n",
        "embedding_matrix = np.zeros((vocab_size, W2V_SIZE))\n",
        "for word, i in tokenizer.word_index.items():\n",
        "  if word in w2v_model.wv:\n",
        "    embedding_matrix[i] = w2v_model.wv[word]\n",
        "print(embedding_matrix.shape)"
      ],
      "execution_count": 52,
      "outputs": [
        {
          "output_type": "stream",
          "text": [
            "(11862, 200)\n"
          ],
          "name": "stdout"
        }
      ]
    },
    {
      "cell_type": "markdown",
      "metadata": {
        "id": "T5YHnSnts2TZ"
      },
      "source": [
        "## LSTM"
      ]
    },
    {
      "cell_type": "code",
      "metadata": {
        "id": "ta6jssNooHfo",
        "colab": {
          "base_uri": "https://localhost:8080/"
        },
        "outputId": "2580284a-83a7-4f3e-e07e-2593edc652dd"
      },
      "source": [
        "from keras.models import Sequential\n",
        "from keras.layers import Activation, Dense, Dropout, Embedding, Flatten, Conv1D, MaxPooling1D, LSTM\n",
        "\n",
        "model = Sequential()\n",
        "model.add(Embedding(vocab_size, W2V_SIZE, weights=[embedding_matrix], input_length=SEQUENCE_LENGTH, trainable=False))\n",
        "model.add(Dropout(0.5))\n",
        "model.add(LSTM(100, dropout=0.2, recurrent_dropout=0.2))\n",
        "model.add(Dense(1, activation='sigmoid'))\n",
        "\n",
        "model.summary()"
      ],
      "execution_count": 59,
      "outputs": [
        {
          "output_type": "stream",
          "text": [
            "Model: \"sequential_2\"\n",
            "_________________________________________________________________\n",
            "Layer (type)                 Output Shape              Param #   \n",
            "=================================================================\n",
            "embedding_2 (Embedding)      (None, 200, 200)          2372400   \n",
            "_________________________________________________________________\n",
            "dropout_2 (Dropout)          (None, 200, 200)          0         \n",
            "_________________________________________________________________\n",
            "lstm_2 (LSTM)                (None, 100)               120400    \n",
            "_________________________________________________________________\n",
            "dense_2 (Dense)              (None, 1)                 101       \n",
            "=================================================================\n",
            "Total params: 2,492,901\n",
            "Trainable params: 120,501\n",
            "Non-trainable params: 2,372,400\n",
            "_________________________________________________________________\n"
          ],
          "name": "stdout"
        }
      ]
    },
    {
      "cell_type": "code",
      "metadata": {
        "id": "diXP7ld2oRHP"
      },
      "source": [
        "model.compile(loss='binary_crossentropy',\n",
        "              optimizer=\"adam\",\n",
        "              metrics=['acc'])"
      ],
      "execution_count": 54,
      "outputs": []
    },
    {
      "cell_type": "code",
      "metadata": {
        "colab": {
          "base_uri": "https://localhost:8080/"
        },
        "id": "1gygR3unoTCJ",
        "outputId": "2286e6b5-513d-4c4c-fa97-0136a153ad3c"
      },
      "source": [
        "%%time\n",
        "import tensorflow as tf\n",
        "\n",
        "EPOCHS = 60\n",
        "BATCH_SIZE = 8\n",
        "\n",
        "lr_schedule = tf.keras.callbacks.LearningRateScheduler(\n",
        "    lambda epoch: 1e-6 * 10**(epoch / 10), verbose=1)\n",
        "\n",
        "history = model.fit(x_train, y_train,\n",
        "                    batch_size=BATCH_SIZE,\n",
        "                    epochs=EPOCHS,\n",
        "                    validation_split=0.1,\n",
        "                    callbacks=[lr_schedule],\n",
        "                    verbose=1)"
      ],
      "execution_count": 55,
      "outputs": [
        {
          "output_type": "stream",
          "text": [
            "Epoch 1/60\n",
            "\n",
            "Epoch 00001: LearningRateScheduler reducing learning rate to 1e-06.\n",
            "40/40 [==============================] - 37s 331ms/step - loss: 0.6858 - acc: 0.5447 - val_loss: 0.6534 - val_acc: 0.5833\n",
            "Epoch 2/60\n",
            "\n",
            "Epoch 00002: LearningRateScheduler reducing learning rate to 1.2589254117941672e-06.\n",
            "40/40 [==============================] - 12s 302ms/step - loss: 0.6724 - acc: 0.5681 - val_loss: 0.6531 - val_acc: 0.5833\n",
            "Epoch 3/60\n",
            "\n",
            "Epoch 00003: LearningRateScheduler reducing learning rate to 1.5848931924611134e-06.\n",
            "40/40 [==============================] - 12s 303ms/step - loss: 0.6562 - acc: 0.5884 - val_loss: 0.6525 - val_acc: 0.5833\n",
            "Epoch 4/60\n",
            "\n",
            "Epoch 00004: LearningRateScheduler reducing learning rate to 1.9952623149688796e-06.\n",
            "40/40 [==============================] - 12s 305ms/step - loss: 0.6747 - acc: 0.5305 - val_loss: 0.6520 - val_acc: 0.5833\n",
            "Epoch 5/60\n",
            "\n",
            "Epoch 00005: LearningRateScheduler reducing learning rate to 2.51188643150958e-06.\n",
            "40/40 [==============================] - 12s 304ms/step - loss: 0.6796 - acc: 0.5626 - val_loss: 0.6511 - val_acc: 0.5833\n",
            "Epoch 6/60\n",
            "\n",
            "Epoch 00006: LearningRateScheduler reducing learning rate to 3.162277660168379e-06.\n",
            "40/40 [==============================] - 12s 305ms/step - loss: 0.6700 - acc: 0.6042 - val_loss: 0.6502 - val_acc: 0.5833\n",
            "Epoch 7/60\n",
            "\n",
            "Epoch 00007: LearningRateScheduler reducing learning rate to 3.981071705534972e-06.\n",
            "40/40 [==============================] - 12s 303ms/step - loss: 0.6560 - acc: 0.6615 - val_loss: 0.6491 - val_acc: 0.5833\n",
            "Epoch 8/60\n",
            "\n",
            "Epoch 00008: LearningRateScheduler reducing learning rate to 5.011872336272722e-06.\n",
            "40/40 [==============================] - 12s 303ms/step - loss: 0.6735 - acc: 0.5951 - val_loss: 0.6479 - val_acc: 0.5833\n",
            "Epoch 9/60\n",
            "\n",
            "Epoch 00009: LearningRateScheduler reducing learning rate to 6.309573444801933e-06.\n",
            "40/40 [==============================] - 12s 305ms/step - loss: 0.6695 - acc: 0.5560 - val_loss: 0.6461 - val_acc: 0.5833\n",
            "Epoch 10/60\n",
            "\n",
            "Epoch 00010: LearningRateScheduler reducing learning rate to 7.943282347242815e-06.\n",
            "40/40 [==============================] - 12s 304ms/step - loss: 0.6556 - acc: 0.5894 - val_loss: 0.6441 - val_acc: 0.6111\n",
            "Epoch 11/60\n",
            "\n",
            "Epoch 00011: LearningRateScheduler reducing learning rate to 9.999999999999999e-06.\n",
            "40/40 [==============================] - 12s 305ms/step - loss: 0.6586 - acc: 0.6055 - val_loss: 0.6416 - val_acc: 0.6111\n",
            "Epoch 12/60\n",
            "\n",
            "Epoch 00012: LearningRateScheduler reducing learning rate to 1.2589254117941675e-05.\n",
            "40/40 [==============================] - 12s 305ms/step - loss: 0.6397 - acc: 0.6546 - val_loss: 0.6382 - val_acc: 0.6111\n",
            "Epoch 13/60\n",
            "\n",
            "Epoch 00013: LearningRateScheduler reducing learning rate to 1.584893192461113e-05.\n",
            "40/40 [==============================] - 12s 303ms/step - loss: 0.6604 - acc: 0.5950 - val_loss: 0.6354 - val_acc: 0.5833\n",
            "Epoch 14/60\n",
            "\n",
            "Epoch 00014: LearningRateScheduler reducing learning rate to 1.9952623149688796e-05.\n",
            "40/40 [==============================] - 12s 305ms/step - loss: 0.6543 - acc: 0.6088 - val_loss: 0.6320 - val_acc: 0.6111\n",
            "Epoch 15/60\n",
            "\n",
            "Epoch 00015: LearningRateScheduler reducing learning rate to 2.5118864315095795e-05.\n",
            "40/40 [==============================] - 12s 307ms/step - loss: 0.6437 - acc: 0.6543 - val_loss: 0.6271 - val_acc: 0.6111\n",
            "Epoch 16/60\n",
            "\n",
            "Epoch 00016: LearningRateScheduler reducing learning rate to 3.162277660168379e-05.\n",
            "40/40 [==============================] - 12s 311ms/step - loss: 0.6301 - acc: 0.6755 - val_loss: 0.6229 - val_acc: 0.6389\n",
            "Epoch 17/60\n",
            "\n",
            "Epoch 00017: LearningRateScheduler reducing learning rate to 3.9810717055349735e-05.\n",
            "40/40 [==============================] - 12s 309ms/step - loss: 0.6393 - acc: 0.6624 - val_loss: 0.6178 - val_acc: 0.6389\n",
            "Epoch 18/60\n",
            "\n",
            "Epoch 00018: LearningRateScheduler reducing learning rate to 5.0118723362727224e-05.\n",
            "40/40 [==============================] - 12s 309ms/step - loss: 0.6366 - acc: 0.6498 - val_loss: 0.6139 - val_acc: 0.6667\n",
            "Epoch 19/60\n",
            "\n",
            "Epoch 00019: LearningRateScheduler reducing learning rate to 6.309573444801932e-05.\n",
            "40/40 [==============================] - 12s 312ms/step - loss: 0.6039 - acc: 0.6725 - val_loss: 0.6090 - val_acc: 0.6944\n",
            "Epoch 20/60\n",
            "\n",
            "Epoch 00020: LearningRateScheduler reducing learning rate to 7.943282347242814e-05.\n",
            "40/40 [==============================] - 12s 305ms/step - loss: 0.5927 - acc: 0.7325 - val_loss: 0.6067 - val_acc: 0.6944\n",
            "Epoch 21/60\n",
            "\n",
            "Epoch 00021: LearningRateScheduler reducing learning rate to 9.999999999999999e-05.\n",
            "40/40 [==============================] - 12s 308ms/step - loss: 0.6007 - acc: 0.6614 - val_loss: 0.6021 - val_acc: 0.6944\n",
            "Epoch 22/60\n",
            "\n",
            "Epoch 00022: LearningRateScheduler reducing learning rate to 0.00012589254117941674.\n",
            "40/40 [==============================] - 12s 305ms/step - loss: 0.5750 - acc: 0.6965 - val_loss: 0.6071 - val_acc: 0.6944\n",
            "Epoch 23/60\n",
            "\n",
            "Epoch 00023: LearningRateScheduler reducing learning rate to 0.00015848931924611142.\n",
            "40/40 [==============================] - 12s 310ms/step - loss: 0.5696 - acc: 0.7067 - val_loss: 0.6243 - val_acc: 0.6667\n",
            "Epoch 24/60\n",
            "\n",
            "Epoch 00024: LearningRateScheduler reducing learning rate to 0.00019952623149688788.\n",
            "40/40 [==============================] - 12s 307ms/step - loss: 0.5387 - acc: 0.7400 - val_loss: 0.6064 - val_acc: 0.6389\n",
            "Epoch 25/60\n",
            "\n",
            "Epoch 00025: LearningRateScheduler reducing learning rate to 0.00025118864315095795.\n",
            "40/40 [==============================] - 12s 308ms/step - loss: 0.5169 - acc: 0.7841 - val_loss: 0.6364 - val_acc: 0.6667\n",
            "Epoch 26/60\n",
            "\n",
            "Epoch 00026: LearningRateScheduler reducing learning rate to 0.00031622776601683794.\n",
            "40/40 [==============================] - 12s 306ms/step - loss: 0.4948 - acc: 0.7688 - val_loss: 0.6031 - val_acc: 0.7222\n",
            "Epoch 27/60\n",
            "\n",
            "Epoch 00027: LearningRateScheduler reducing learning rate to 0.0003981071705534973.\n",
            "40/40 [==============================] - 12s 306ms/step - loss: 0.5071 - acc: 0.7585 - val_loss: 0.6631 - val_acc: 0.6667\n",
            "Epoch 28/60\n",
            "\n",
            "Epoch 00028: LearningRateScheduler reducing learning rate to 0.0005011872336272724.\n",
            "40/40 [==============================] - 12s 304ms/step - loss: 0.4279 - acc: 0.8254 - val_loss: 0.6740 - val_acc: 0.6667\n",
            "Epoch 29/60\n",
            "\n",
            "Epoch 00029: LearningRateScheduler reducing learning rate to 0.000630957344480193.\n",
            "40/40 [==============================] - 12s 310ms/step - loss: 0.4070 - acc: 0.8461 - val_loss: 0.6303 - val_acc: 0.7500\n",
            "Epoch 30/60\n",
            "\n",
            "Epoch 00030: LearningRateScheduler reducing learning rate to 0.0007943282347242812.\n",
            "40/40 [==============================] - 12s 306ms/step - loss: 0.4104 - acc: 0.8318 - val_loss: 0.7620 - val_acc: 0.6389\n",
            "Epoch 31/60\n",
            "\n",
            "Epoch 00031: LearningRateScheduler reducing learning rate to 0.001.\n",
            "40/40 [==============================] - 12s 305ms/step - loss: 0.4104 - acc: 0.8401 - val_loss: 0.6401 - val_acc: 0.6944\n",
            "Epoch 32/60\n",
            "\n",
            "Epoch 00032: LearningRateScheduler reducing learning rate to 0.0012589254117941675.\n",
            "40/40 [==============================] - 12s 306ms/step - loss: 0.3838 - acc: 0.8434 - val_loss: 0.9203 - val_acc: 0.6944\n",
            "Epoch 33/60\n",
            "\n",
            "Epoch 00033: LearningRateScheduler reducing learning rate to 0.0015848931924611139.\n",
            "40/40 [==============================] - 12s 306ms/step - loss: 0.4077 - acc: 0.8077 - val_loss: 0.6082 - val_acc: 0.6944\n",
            "Epoch 34/60\n",
            "\n",
            "Epoch 00034: LearningRateScheduler reducing learning rate to 0.001995262314968879.\n",
            "40/40 [==============================] - 12s 308ms/step - loss: 0.3876 - acc: 0.8119 - val_loss: 0.7701 - val_acc: 0.6389\n",
            "Epoch 35/60\n",
            "\n",
            "Epoch 00035: LearningRateScheduler reducing learning rate to 0.00251188643150958.\n",
            "40/40 [==============================] - 12s 307ms/step - loss: 0.3632 - acc: 0.8514 - val_loss: 0.8209 - val_acc: 0.6667\n",
            "Epoch 36/60\n",
            "\n",
            "Epoch 00036: LearningRateScheduler reducing learning rate to 0.0031622776601683794.\n",
            "40/40 [==============================] - 12s 303ms/step - loss: 0.3799 - acc: 0.8338 - val_loss: 0.6195 - val_acc: 0.6667\n",
            "Epoch 37/60\n",
            "\n",
            "Epoch 00037: LearningRateScheduler reducing learning rate to 0.003981071705534973.\n",
            "40/40 [==============================] - 12s 304ms/step - loss: 0.3528 - acc: 0.8478 - val_loss: 0.8707 - val_acc: 0.5556\n",
            "Epoch 38/60\n",
            "\n",
            "Epoch 00038: LearningRateScheduler reducing learning rate to 0.005011872336272725.\n",
            "40/40 [==============================] - 12s 305ms/step - loss: 0.3153 - acc: 0.8843 - val_loss: 0.5120 - val_acc: 0.7222\n",
            "Epoch 39/60\n",
            "\n",
            "Epoch 00039: LearningRateScheduler reducing learning rate to 0.00630957344480193.\n",
            "40/40 [==============================] - 12s 305ms/step - loss: 0.3527 - acc: 0.8437 - val_loss: 0.7514 - val_acc: 0.6944\n",
            "Epoch 40/60\n",
            "\n",
            "Epoch 00040: LearningRateScheduler reducing learning rate to 0.007943282347242814.\n",
            "40/40 [==============================] - 12s 304ms/step - loss: 0.3376 - acc: 0.8390 - val_loss: 1.0663 - val_acc: 0.6667\n",
            "Epoch 41/60\n",
            "\n",
            "Epoch 00041: LearningRateScheduler reducing learning rate to 0.01.\n",
            "40/40 [==============================] - 12s 302ms/step - loss: 0.4337 - acc: 0.7911 - val_loss: 0.7937 - val_acc: 0.6389\n",
            "Epoch 42/60\n",
            "\n",
            "Epoch 00042: LearningRateScheduler reducing learning rate to 0.012589254117941661.\n",
            "40/40 [==============================] - 12s 303ms/step - loss: 0.5032 - acc: 0.7508 - val_loss: 0.6961 - val_acc: 0.6944\n",
            "Epoch 43/60\n",
            "\n",
            "Epoch 00043: LearningRateScheduler reducing learning rate to 0.01584893192461114.\n",
            "40/40 [==============================] - 12s 306ms/step - loss: 0.5380 - acc: 0.7104 - val_loss: 0.6145 - val_acc: 0.6667\n",
            "Epoch 44/60\n",
            "\n",
            "Epoch 00044: LearningRateScheduler reducing learning rate to 0.01995262314968879.\n",
            "40/40 [==============================] - 12s 307ms/step - loss: 0.6797 - acc: 0.6263 - val_loss: 0.5282 - val_acc: 0.7500\n",
            "Epoch 45/60\n",
            "\n",
            "Epoch 00045: LearningRateScheduler reducing learning rate to 0.025118864315095822.\n",
            "40/40 [==============================] - 12s 304ms/step - loss: 0.7403 - acc: 0.5900 - val_loss: 0.6282 - val_acc: 0.6944\n",
            "Epoch 46/60\n",
            "\n",
            "Epoch 00046: LearningRateScheduler reducing learning rate to 0.03162277660168379.\n",
            "40/40 [==============================] - 12s 308ms/step - loss: 0.7009 - acc: 0.6497 - val_loss: 0.6898 - val_acc: 0.5833\n",
            "Epoch 47/60\n",
            "\n",
            "Epoch 00047: LearningRateScheduler reducing learning rate to 0.039810717055349686.\n",
            "40/40 [==============================] - 12s 305ms/step - loss: 0.7825 - acc: 0.5786 - val_loss: 0.8986 - val_acc: 0.6111\n",
            "Epoch 48/60\n",
            "\n",
            "Epoch 00048: LearningRateScheduler reducing learning rate to 0.05011872336272725.\n",
            "40/40 [==============================] - 12s 306ms/step - loss: 0.8338 - acc: 0.5556 - val_loss: 0.8775 - val_acc: 0.5556\n",
            "Epoch 49/60\n",
            "\n",
            "Epoch 00049: LearningRateScheduler reducing learning rate to 0.0630957344480193.\n",
            "40/40 [==============================] - 12s 307ms/step - loss: nan - acc: 0.5269 - val_loss: nan - val_acc: 0.5833\n",
            "Epoch 50/60\n",
            "\n",
            "Epoch 00050: LearningRateScheduler reducing learning rate to 0.07943282347242821.\n",
            "40/40 [==============================] - 12s 309ms/step - loss: nan - acc: 0.6303 - val_loss: nan - val_acc: 0.5833\n",
            "Epoch 51/60\n",
            "\n",
            "Epoch 00051: LearningRateScheduler reducing learning rate to 0.09999999999999999.\n",
            "40/40 [==============================] - 12s 306ms/step - loss: nan - acc: 0.6152 - val_loss: nan - val_acc: 0.5833\n",
            "Epoch 52/60\n",
            "\n",
            "Epoch 00052: LearningRateScheduler reducing learning rate to 0.12589254117941662.\n",
            "40/40 [==============================] - 12s 303ms/step - loss: nan - acc: 0.6266 - val_loss: nan - val_acc: 0.5833\n",
            "Epoch 53/60\n",
            "\n",
            "Epoch 00053: LearningRateScheduler reducing learning rate to 0.1584893192461114.\n",
            "40/40 [==============================] - 12s 304ms/step - loss: nan - acc: 0.6425 - val_loss: nan - val_acc: 0.5833\n",
            "Epoch 54/60\n",
            "\n",
            "Epoch 00054: LearningRateScheduler reducing learning rate to 0.1995262314968879.\n",
            "40/40 [==============================] - 12s 305ms/step - loss: nan - acc: 0.6351 - val_loss: nan - val_acc: 0.5833\n",
            "Epoch 55/60\n",
            "\n",
            "Epoch 00055: LearningRateScheduler reducing learning rate to 0.2511886431509582.\n",
            "40/40 [==============================] - 12s 304ms/step - loss: nan - acc: 0.5928 - val_loss: nan - val_acc: 0.5833\n",
            "Epoch 56/60\n",
            "\n",
            "Epoch 00056: LearningRateScheduler reducing learning rate to 0.3162277660168379.\n",
            "40/40 [==============================] - 12s 303ms/step - loss: nan - acc: 0.6097 - val_loss: nan - val_acc: 0.5833\n",
            "Epoch 57/60\n",
            "\n",
            "Epoch 00057: LearningRateScheduler reducing learning rate to 0.3981071705534969.\n",
            "40/40 [==============================] - 12s 303ms/step - loss: nan - acc: 0.6242 - val_loss: nan - val_acc: 0.5833\n",
            "Epoch 58/60\n",
            "\n",
            "Epoch 00058: LearningRateScheduler reducing learning rate to 0.5011872336272725.\n",
            "40/40 [==============================] - 12s 303ms/step - loss: nan - acc: 0.6630 - val_loss: nan - val_acc: 0.5833\n",
            "Epoch 59/60\n",
            "\n",
            "Epoch 00059: LearningRateScheduler reducing learning rate to 0.6309573444801929.\n",
            "40/40 [==============================] - 12s 303ms/step - loss: nan - acc: 0.6461 - val_loss: nan - val_acc: 0.5833\n",
            "Epoch 60/60\n",
            "\n",
            "Epoch 00060: LearningRateScheduler reducing learning rate to 0.7943282347242822.\n",
            "40/40 [==============================] - 12s 303ms/step - loss: nan - acc: 0.6235 - val_loss: nan - val_acc: 0.5833\n",
            "CPU times: user 21min 59s, sys: 1min 23s, total: 23min 22s\n",
            "Wall time: 12min 46s\n"
          ],
          "name": "stdout"
        }
      ]
    },
    {
      "cell_type": "code",
      "metadata": {
        "colab": {
          "base_uri": "https://localhost:8080/",
          "height": 304
        },
        "id": "VRSLD3mwrZ6r",
        "outputId": "70cd704a-94e7-4dcd-84b3-70f52c632745"
      },
      "source": [
        "import matplotlib.pyplot as plt\n",
        "\n",
        "plt.xlabel('learning rate')\n",
        "plt.ylabel('val_loss')\n",
        "plt.semilogx(history.history[\"lr\"], history.history[\"val_loss\"])\n",
        "plt.axis([1e-6, 1e0, 0, 2])"
      ],
      "execution_count": 56,
      "outputs": [
        {
          "output_type": "execute_result",
          "data": {
            "text/plain": [
              "(1e-06, 1.0, 0.0, 2.0)"
            ]
          },
          "metadata": {
            "tags": []
          },
          "execution_count": 56
        },
        {
          "output_type": "display_data",
          "data": {
            "image/png": "[encoded data removed]",
            "text/plain": [
              "<Figure size 432x288 with 1 Axes>"
            ]
          },
          "metadata": {
            "tags": [],
            "needs_background": "light"
          }
        }
      ]
    },
    {
      "cell_type": "code",
      "metadata": {
        "colab": {
          "base_uri": "https://localhost:8080/"
        },
        "id": "uRID4Wh7sPrT",
        "outputId": "60d220d1-08cb-409f-945b-dc1937502d21"
      },
      "source": [
        "model.compile(loss='binary_crossentropy', optimizer=tf.keras.optimizers.Adam(lr=0.00025118864315095795), metrics=['accuracy'])\n",
        "\n",
        "history = model.fit(x_train, y_train,validation_data=(x_test,y_test), batch_size=8, epochs=10,verbose=1)"
      ],
      "execution_count": 60,
      "outputs": [
        {
          "output_type": "stream",
          "text": [
            "Epoch 1/10\n",
            "44/44 [==============================] - 16s 297ms/step - loss: 0.6854 - accuracy: 0.5230 - val_loss: 0.6535 - val_accuracy: 0.5843\n",
            "Epoch 2/10\n",
            "44/44 [==============================] - 12s 274ms/step - loss: 0.6191 - accuracy: 0.6715 - val_loss: 0.6565 - val_accuracy: 0.6292\n",
            "Epoch 3/10\n",
            "44/44 [==============================] - 12s 274ms/step - loss: 0.5877 - accuracy: 0.6763 - val_loss: 0.6484 - val_accuracy: 0.6742\n",
            "Epoch 4/10\n",
            "44/44 [==============================] - 12s 276ms/step - loss: 0.5726 - accuracy: 0.7228 - val_loss: 0.6381 - val_accuracy: 0.6966\n",
            "Epoch 5/10\n",
            "44/44 [==============================] - 12s 273ms/step - loss: 0.5329 - accuracy: 0.7468 - val_loss: 0.6629 - val_accuracy: 0.7079\n",
            "Epoch 6/10\n",
            "44/44 [==============================] - 12s 273ms/step - loss: 0.5569 - accuracy: 0.7051 - val_loss: 0.6109 - val_accuracy: 0.7191\n",
            "Epoch 7/10\n",
            "44/44 [==============================] - 12s 273ms/step - loss: 0.4792 - accuracy: 0.7705 - val_loss: 0.6159 - val_accuracy: 0.7079\n",
            "Epoch 8/10\n",
            "44/44 [==============================] - 12s 273ms/step - loss: 0.4636 - accuracy: 0.7736 - val_loss: 0.6278 - val_accuracy: 0.6854\n",
            "Epoch 9/10\n",
            "44/44 [==============================] - 12s 273ms/step - loss: 0.4440 - accuracy: 0.7836 - val_loss: 0.6360 - val_accuracy: 0.7079\n",
            "Epoch 10/10\n",
            "44/44 [==============================] - 12s 275ms/step - loss: 0.4569 - accuracy: 0.7760 - val_loss: 0.6311 - val_accuracy: 0.7191\n"
          ],
          "name": "stdout"
        }
      ]
    },
    {
      "cell_type": "code",
      "metadata": {
        "colab": {
          "base_uri": "https://localhost:8080/"
        },
        "id": "czjiM7P9oU1d",
        "outputId": "b95051e9-89a6-44a8-c08b-1bba7316f16e"
      },
      "source": [
        "%%time\n",
        "score = model.evaluate(x_test, y_test, batch_size=BATCH_SIZE)\n",
        "print()\n",
        "print(\"ACCURACY:\",score[1])\n",
        "print(\"LOSS:\",score[0])"
      ],
      "execution_count": 61,
      "outputs": [
        {
          "output_type": "stream",
          "text": [
            "12/12 [==============================] - 0s 38ms/step - loss: 0.6311 - accuracy: 0.7191\n",
            "\n",
            "ACCURACY: 0.7191011309623718\n",
            "LOSS: 0.6310719847679138\n",
            "CPU times: user 844 ms, sys: 13.5 ms, total: 857 ms\n",
            "Wall time: 510 ms\n"
          ],
          "name": "stdout"
        }
      ]
    }
  ]
}